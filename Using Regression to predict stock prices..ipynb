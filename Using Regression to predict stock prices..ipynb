{
 "cells": [
  {
   "cell_type": "code",
   "execution_count": 73,
   "metadata": {
    "colab": {},
    "colab_type": "code",
    "id": "r2fDP2hWORaq"
   },
   "outputs": [],
   "source": [
    "#importing required libraries \n",
    "import numpy as np\n",
    "import pandas as pd\n",
    "import matplotlib.pyplot as plt\n",
    "import seaborn as sns\n",
    "from sklearn.model_selection import train_test_split\n",
    "sns.set()\n",
    "from pandas_datareader import data as pdr\n",
    "#import fix_yahoo_finance as yf\n",
    "import plotly.express as px\n",
    "from sklearn.linear_model import LinearRegression \n",
    "from matplotlib.pyplot import figure\n",
    "from sklearn.preprocessing import PolynomialFeatures \n",
    "from sklearn.linear_model import Ridge, RidgeCV, Lasso, LassoCV"
   ]
  },
  {
   "cell_type": "code",
   "execution_count": 4,
   "metadata": {
    "colab": {
     "base_uri": "https://localhost:8080/",
     "height": 224
    },
    "colab_type": "code",
    "executionInfo": {
     "elapsed": 954,
     "status": "ok",
     "timestamp": 1567585383071,
     "user": {
      "displayName": "Parikshit Sohoni",
      "photoUrl": "",
      "userId": "14505864633031818456"
     },
     "user_tz": -330
    },
    "id": "l8vf4kt7O8FK",
    "outputId": "2987da23-a60a-4e58-950e-06e75337f6ed"
   },
   "outputs": [
    {
     "data": {
      "text/html": [
       "<div>\n",
       "<style scoped>\n",
       "    .dataframe tbody tr th:only-of-type {\n",
       "        vertical-align: middle;\n",
       "    }\n",
       "\n",
       "    .dataframe tbody tr th {\n",
       "        vertical-align: top;\n",
       "    }\n",
       "\n",
       "    .dataframe thead th {\n",
       "        text-align: right;\n",
       "    }\n",
       "</style>\n",
       "<table border=\"1\" class=\"dataframe\">\n",
       "  <thead>\n",
       "    <tr style=\"text-align: right;\">\n",
       "      <th></th>\n",
       "      <th>Date</th>\n",
       "      <th>High</th>\n",
       "      <th>Low</th>\n",
       "      <th>Open</th>\n",
       "      <th>Close</th>\n",
       "      <th>Volume</th>\n",
       "      <th>Adj Close</th>\n",
       "    </tr>\n",
       "  </thead>\n",
       "  <tbody>\n",
       "    <tr>\n",
       "      <th>0</th>\n",
       "      <td>2018-01-01</td>\n",
       "      <td>922.700012</td>\n",
       "      <td>907.500000</td>\n",
       "      <td>922.700012</td>\n",
       "      <td>909.750000</td>\n",
       "      <td>4321686.0</td>\n",
       "      <td>899.194580</td>\n",
       "    </tr>\n",
       "    <tr>\n",
       "      <th>1</th>\n",
       "      <td>2018-01-02</td>\n",
       "      <td>919.549988</td>\n",
       "      <td>906.400024</td>\n",
       "      <td>913.000000</td>\n",
       "      <td>911.150024</td>\n",
       "      <td>4342815.0</td>\n",
       "      <td>900.578369</td>\n",
       "    </tr>\n",
       "    <tr>\n",
       "      <th>2</th>\n",
       "      <td>2018-01-03</td>\n",
       "      <td>926.000000</td>\n",
       "      <td>913.049988</td>\n",
       "      <td>925.000000</td>\n",
       "      <td>914.799988</td>\n",
       "      <td>6175312.0</td>\n",
       "      <td>904.185974</td>\n",
       "    </tr>\n",
       "    <tr>\n",
       "      <th>3</th>\n",
       "      <td>2018-01-04</td>\n",
       "      <td>921.799988</td>\n",
       "      <td>915.700012</td>\n",
       "      <td>918.150024</td>\n",
       "      <td>920.299988</td>\n",
       "      <td>4118581.0</td>\n",
       "      <td>909.622131</td>\n",
       "    </tr>\n",
       "    <tr>\n",
       "      <th>4</th>\n",
       "      <td>2018-01-05</td>\n",
       "      <td>926.900024</td>\n",
       "      <td>920.250000</td>\n",
       "      <td>921.799988</td>\n",
       "      <td>923.250000</td>\n",
       "      <td>3401905.0</td>\n",
       "      <td>912.537903</td>\n",
       "    </tr>\n",
       "  </tbody>\n",
       "</table>\n",
       "</div>"
      ],
      "text/plain": [
       "        Date        High         Low        Open       Close     Volume  \\\n",
       "0 2018-01-01  922.700012  907.500000  922.700012  909.750000  4321686.0   \n",
       "1 2018-01-02  919.549988  906.400024  913.000000  911.150024  4342815.0   \n",
       "2 2018-01-03  926.000000  913.049988  925.000000  914.799988  6175312.0   \n",
       "3 2018-01-04  921.799988  915.700012  918.150024  920.299988  4118581.0   \n",
       "4 2018-01-05  926.900024  920.250000  921.799988  923.250000  3401905.0   \n",
       "\n",
       "    Adj Close  \n",
       "0  899.194580  \n",
       "1  900.578369  \n",
       "2  904.185974  \n",
       "3  909.622131  \n",
       "4  912.537903  "
      ]
     },
     "execution_count": 4,
     "metadata": {},
     "output_type": "execute_result"
    }
   ],
   "source": [
    "# Getting the data of the stock price of a company from Yahoo finance. \n",
    "df_full = pdr.get_data_yahoo(\"RELIANCE.NS\", start = \"2018-01-01\").reset_index()\n",
    "#Saving the data to a local path \n",
    "df_full.to_csv('RELIANCE.NS.csv', index = False)\n",
    "#Having a look at first 5 rows of the downloaded data\n",
    "df_full.head()"
   ]
  },
  {
   "cell_type": "code",
   "execution_count": 25,
   "metadata": {
    "colab": {},
    "colab_type": "code",
    "id": "RS_U3ypaVRVZ"
   },
   "outputs": [],
   "source": [
    "#Reading the data from the local path into the python environment\n",
    "df_full = pd.read_csv('RELIANCE.NS.csv')"
   ]
  },
  {
   "cell_type": "code",
   "execution_count": 26,
   "metadata": {
    "colab": {
     "base_uri": "https://localhost:8080/",
     "height": 225
    },
    "colab_type": "code",
    "executionInfo": {
     "elapsed": 957,
     "status": "ok",
     "timestamp": 1567594006780,
     "user": {
      "displayName": "Parikshit Sohoni",
      "photoUrl": "",
      "userId": "14505864633031818456"
     },
     "user_tz": -330
    },
    "id": "ZMNbp5vp4f7G",
    "outputId": "87d6956b-e314-4991-e1c6-87e20f45c777"
   },
   "outputs": [
    {
     "name": "stdout",
     "output_type": "stream",
     "text": [
      "<class 'pandas.core.frame.DataFrame'>\n",
      "RangeIndex: 414 entries, 0 to 413\n",
      "Data columns (total 7 columns):\n",
      "Date         414 non-null object\n",
      "High         414 non-null float64\n",
      "Low          414 non-null float64\n",
      "Open         414 non-null float64\n",
      "Close        414 non-null float64\n",
      "Volume       414 non-null float64\n",
      "Adj Close    414 non-null float64\n",
      "dtypes: float64(6), object(1)\n",
      "memory usage: 22.7+ KB\n"
     ]
    }
   ],
   "source": [
    "#Checking the information of the data read into python \n",
    "df_full.info()"
   ]
  },
  {
   "cell_type": "markdown",
   "metadata": {},
   "source": [
    "### Stock data can be plotted using Matplot lib as shown below"
   ]
  },
  {
   "cell_type": "code",
   "execution_count": 22,
   "metadata": {
    "colab": {
     "base_uri": "https://localhost:8080/",
     "height": 34
    },
    "colab_type": "code",
    "executionInfo": {
     "elapsed": 962,
     "status": "ok",
     "timestamp": 1567593863737,
     "user": {
      "displayName": "Parikshit Sohoni",
      "photoUrl": "",
      "userId": "14505864633031818456"
     },
     "user_tz": -330
    },
    "id": "3Ec2tJ2iO8SY",
    "outputId": "6235e1bd-3944-4097-fbf1-d8153c788b2f"
   },
   "outputs": [
    {
     "data": {
      "text/plain": [
       "[<matplotlib.lines.Line2D at 0x7f3a31700b00>]"
      ]
     },
     "execution_count": 22,
     "metadata": {},
     "output_type": "execute_result"
    },
    {
     "data": {
      "image/png": "[encoded data removed]",
      "text/plain": [
       "<Figure size 1152x576 with 1 Axes>"
      ]
     },
     "metadata": {},
     "output_type": "display_data"
    }
   ],
   "source": [
    "plt.figure(figsize=(16,8))\n",
    "plt.plot(df_full['Adj Close'], label='Close Price history')"
   ]
  },
  {
   "cell_type": "markdown",
   "metadata": {},
   "source": [
    "### Since Date column is not our index, matplotlib is not showing dates on the x axis. I am using plotly instead so that we can have dates on the x axis "
   ]
  },
  {
   "cell_type": "code",
   "execution_count": 23,
   "metadata": {
    "colab": {},
    "colab_type": "code",
    "id": "DZM6k_Qnnngv"
   },
   "outputs": [
    {
     "data": {
      "application/vnd.plotly.v1+json": {
       "config": {
        "plotlyServerURL": "https://plot.ly"
       },
       "data": [
        {
         "hoverlabel": {
          "namelength": 0
         },
         "hovertemplate": "Date=%{x}<br>Adj Close=%{y}",
         "legendgroup": "",
         "line": {
          "color": "#636efa",
          "dash": "solid"
         },
         "mode": "lines",
         "name": "",
         "showlegend": false,
         "type": "scatter",
         "x": [
          "2018-01-01",
          "2018-01-02",
          "2018-01-03",
          "2018-01-04",
          "2018-01-05",
          "2018-01-08",
          "2018-01-09",
          "2018-01-10",
          "2018-01-11",
          "2018-01-12",
          "2018-01-15",
          "2018-01-16",
          "2018-01-17",
          "2018-01-18",
          "2018-01-19",
          "2018-01-22",
          "2018-01-23",
          "2018-01-24",
          "2018-01-25",
          "2018-01-29",
          "2018-01-30",
          "2018-01-31",
          "2018-02-01",
          "2018-02-02",
          "2018-02-05",
          "2018-02-06",
          "2018-02-07",
          "2018-02-08",
          "2018-02-09",
          "2018-02-12",
          "2018-02-14",
          "2018-02-15",
          "2018-02-16",
          "2018-02-19",
          "2018-02-20",
          "2018-02-21",
          "2018-02-22",
          "2018-02-23",
          "2018-02-26",
          "2018-02-27",
          "2018-02-28",
          "2018-03-01",
          "2018-03-05",
          "2018-03-06",
          "2018-03-07",
          "2018-03-08",
          "2018-03-09",
          "2018-03-12",
          "2018-03-13",
          "2018-03-14",
          "2018-03-15",
          "2018-03-16",
          "2018-03-19",
          "2018-03-20",
          "2018-03-21",
          "2018-03-22",
          "2018-03-23",
          "2018-03-26",
          "2018-03-27",
          "2018-03-28",
          "2018-04-02",
          "2018-04-03",
          "2018-04-04",
          "2018-04-05",
          "2018-04-06",
          "2018-04-09",
          "2018-04-10",
          "2018-04-11",
          "2018-04-12",
          "2018-04-13",
          "2018-04-16",
          "2018-04-17",
          "2018-04-18",
          "2018-04-19",
          "2018-04-20",
          "2018-04-23",
          "2018-04-24",
          "2018-04-25",
          "2018-04-26",
          "2018-04-27",
          "2018-04-30",
          "2018-05-02",
          "2018-05-03",
          "2018-05-04",
          "2018-05-07",
          "2018-05-08",
          "2018-05-09",
          "2018-05-10",
          "2018-05-11",
          "2018-05-14",
          "2018-05-15",
          "2018-05-16",
          "2018-05-17",
          "2018-05-18",
          "2018-05-21",
          "2018-05-22",
          "2018-05-23",
          "2018-05-24",
          "2018-05-25",
          "2018-05-28",
          "2018-05-29",
          "2018-05-30",
          "2018-05-31",
          "2018-06-01",
          "2018-06-04",
          "2018-06-05",
          "2018-06-06",
          "2018-06-07",
          "2018-06-08",
          "2018-06-11",
          "2018-06-12",
          "2018-06-13",
          "2018-06-14",
          "2018-06-15",
          "2018-06-18",
          "2018-06-19",
          "2018-06-20",
          "2018-06-21",
          "2018-06-22",
          "2018-06-25",
          "2018-06-26",
          "2018-06-27",
          "2018-06-28",
          "2018-06-29",
          "2018-07-02",
          "2018-07-03",
          "2018-07-04",
          "2018-07-05",
          "2018-07-06",
          "2018-07-09",
          "2018-07-10",
          "2018-07-11",
          "2018-07-12",
          "2018-07-13",
          "2018-07-16",
          "2018-07-17",
          "2018-07-18",
          "2018-07-19",
          "2018-07-20",
          "2018-07-23",
          "2018-07-24",
          "2018-07-25",
          "2018-07-26",
          "2018-07-27",
          "2018-07-30",
          "2018-07-31",
          "2018-08-01",
          "2018-08-02",
          "2018-08-03",
          "2018-08-06",
          "2018-08-07",
          "2018-08-08",
          "2018-08-09",
          "2018-08-10",
          "2018-08-13",
          "2018-08-14",
          "2018-08-16",
          "2018-08-17",
          "2018-08-20",
          "2018-08-21",
          "2018-08-23",
          "2018-08-24",
          "2018-08-27",
          "2018-08-28",
          "2018-08-29",
          "2018-08-30",
          "2018-08-31",
          "2018-09-03",
          "2018-09-04",
          "2018-09-05",
          "2018-09-06",
          "2018-09-07",
          "2018-09-10",
          "2018-09-11",
          "2018-09-12",
          "2018-09-14",
          "2018-09-17",
          "2018-09-18",
          "2018-09-19",
          "2018-09-21",
          "2018-09-24",
          "2018-09-25",
          "2018-09-26",
          "2018-09-27",
          "2018-09-28",
          "2018-10-01",
          "2018-10-03",
          "2018-10-04",
          "2018-10-05",
          "2018-10-08",
          "2018-10-09",
          "2018-10-10",
          "2018-10-11",
          "2018-10-12",
          "2018-10-15",
          "2018-10-16",
          "2018-10-17",
          "2018-10-19",
          "2018-10-22",
          "2018-10-23",
          "2018-10-24",
          "2018-10-25",
          "2018-10-26",
          "2018-10-29",
          "2018-10-30",
          "2018-10-31",
          "2018-11-01",
          "2018-11-02",
          "2018-11-05",
          "2018-11-06",
          "2018-11-07",
          "2018-11-09",
          "2018-11-12",
          "2018-11-13",
          "2018-11-14",
          "2018-11-15",
          "2018-11-16",
          "2018-11-19",
          "2018-11-20",
          "2018-11-21",
          "2018-11-22",
          "2018-11-26",
          "2018-11-27",
          "2018-11-28",
          "2018-11-29",
          "2018-11-30",
          "2018-12-03",
          "2018-12-04",
          "2018-12-05",
          "2018-12-06",
          "2018-12-07",
          "2018-12-10",
          "2018-12-11",
          "2018-12-12",
          "2018-12-13",
          "2018-12-14",
          "2018-12-17",
          "2018-12-18",
          "2018-12-19",
          "2018-12-20",
          "2018-12-21",
          "2018-12-24",
          "2018-12-26",
          "2018-12-27",
          "2018-12-28",
          "2018-12-31",
          "2019-01-01",
          "2019-01-02",
          "2019-01-03",
          "2019-01-04",
          "2019-01-07",
          "2019-01-08",
          "2019-01-09",
          "2019-01-10",
          "2019-01-11",
          "2019-01-14",
          "2019-01-15",
          "2019-01-16",
          "2019-01-17",
          "2019-01-18",
          "2019-01-21",
          "2019-01-22",
          "2019-01-23",
          "2019-01-24",
          "2019-01-25",
          "2019-01-28",
          "2019-01-29",
          "2019-01-30",
          "2019-01-31",
          "2019-02-01",
          "2019-02-04",
          "2019-02-05",
          "2019-02-06",
          "2019-02-07",
          "2019-02-08",
          "2019-02-11",
          "2019-02-12",
          "2019-02-14",
          "2019-02-15",
          "2019-02-18",
          "2019-02-19",
          "2019-02-20",
          "2019-02-21",
          "2019-02-22",
          "2019-02-25",
          "2019-02-26",
          "2019-02-27",
          "2019-02-28",
          "2019-03-01",
          "2019-03-05",
          "2019-03-06",
          "2019-03-07",
          "2019-03-08",
          "2019-03-11",
          "2019-03-12",
          "2019-03-13",
          "2019-03-14",
          "2019-03-15",
          "2019-03-18",
          "2019-03-19",
          "2019-03-20",
          "2019-03-22",
          "2019-03-25",
          "2019-03-26",
          "2019-03-27",
          "2019-03-28",
          "2019-04-01",
          "2019-04-02",
          "2019-04-03",
          "2019-04-04",
          "2019-04-05",
          "2019-04-08",
          "2019-04-09",
          "2019-04-10",
          "2019-04-11",
          "2019-04-12",
          "2019-04-15",
          "2019-04-16",
          "2019-04-18",
          "2019-04-22",
          "2019-04-23",
          "2019-04-24",
          "2019-04-25",
          "2019-04-26",
          "2019-04-30",
          "2019-05-02",
          "2019-05-03",
          "2019-05-06",
          "2019-05-07",
          "2019-05-08",
          "2019-05-09",
          "2019-05-10",
          "2019-05-13",
          "2019-05-14",
          "2019-05-15",
          "2019-05-16",
          "2019-05-17",
          "2019-05-20",
          "2019-05-21",
          "2019-05-22",
          "2019-05-23",
          "2019-05-24",
          "2019-05-27",
          "2019-05-28",
          "2019-05-29",
          "2019-05-30",
          "2019-05-31",
          "2019-06-03",
          "2019-06-04",
          "2019-06-06",
          "2019-06-07",
          "2019-06-10",
          "2019-06-11",
          "2019-06-12",
          "2019-06-13",
          "2019-06-14",
          "2019-06-17",
          "2019-06-18",
          "2019-06-19",
          "2019-06-20",
          "2019-06-21",
          "2019-06-24",
          "2019-06-25",
          "2019-06-26",
          "2019-06-27",
          "2019-06-28",
          "2019-07-01",
          "2019-07-02",
          "2019-07-03",
          "2019-07-04",
          "2019-07-05",
          "2019-07-08",
          "2019-07-09",
          "2019-07-10",
          "2019-07-11",
          "2019-07-12",
          "2019-07-15",
          "2019-07-16",
          "2019-07-17",
          "2019-07-18",
          "2019-07-19",
          "2019-07-22",
          "2019-07-23",
          "2019-07-24",
          "2019-07-25",
          "2019-07-26",
          "2019-07-29",
          "2019-07-30",
          "2019-07-31",
          "2019-08-01",
          "2019-08-02",
          "2019-08-05",
          "2019-08-06",
          "2019-08-07",
          "2019-08-08",
          "2019-08-09",
          "2019-08-13",
          "2019-08-14",
          "2019-08-16",
          "2019-08-19",
          "2019-08-20",
          "2019-08-21",
          "2019-08-22",
          "2019-08-23",
          "2019-08-26",
          "2019-08-27",
          "2019-08-28",
          "2019-08-29",
          "2019-08-30",
          "2019-09-03",
          "2019-09-04",
          "2019-09-05",
          "2019-09-06",
          "2019-09-09"
         ],
         "xaxis": "x",
         "y": [
          899.194580078125,
          900.578369140625,
          904.1859741210938,
          909.6221313476562,
          912.5379028320312,
          917.7764282226562,
          930.0325927734376,
          931.4163208007812,
          926.8696899414062,
          937.9891357421876,
          938.137451171875,
          912.2413940429688,
          913.7734375,
          909.0291748046876,
          920.4945068359376,
          960.2280883789062,
          971.841796875,
          955.1378173828124,
          954.693115234375,
          953.309326171875,
          939.3729858398438,
          950.1464233398438,
          932.89892578125,
          893.857177734375,
          891.6828002929688,
          881.7493286132812,
          884.022705078125,
          894.0548706054688,
          887.4326171875,
          904.8778076171876,
          922.8173217773438,
          924.7940673828124,
          910.6105346679688,
          916.2444458007812,
          910.412841796875,
          918.567138671875,
          913.6251831054688,
          923.4103393554688,
          927.8087158203124,
          939.4718017578124,
          943.4747314453124,
          937.3961791992188,
          913.3780517578124,
          900.28173828125,
          879.4266357421875,
          900.8748779296876,
          902.5056762695312,
          919.506103515625,
          921.0381469726562,
          918.2706298828124,
          901.2207641601562,
          889.6071166992188,
          885.1099243164062,
          879.4760131835938,
          886.49365234375,
          897.6131591796875,
          883.5284423828125,
          890.6448974609375,
          889.3599853515625,
          872.4584350585938,
          882.5895385742188,
          889.1129150390625,
          884.5169067382812,
          897.6625366210938,
          900.4300537109375,
          905.3720703125,
          906.4098510742188,
          920.0497436523438,
          917.9247436523438,
          927.9569091796876,
          926.1777954101562,
          933.2942504882812,
          927.1168212890624,
          931.3668823242188,
          917.1339721679688,
          925.1400146484376,
          958.794921875,
          959.2396850585938,
          964.0333862304688,
          984.7403564453124,
          952.1232299804688,
          961.4141845703124,
          950.4429321289062,
          942.8817138671876,
          959.73388671875,
          955.879150390625,
          965.3677978515624,
          969.7661743164062,
          977.772216796875,
          975.1528930664062,
          967.5916748046876,
          945.0562133789062,
          934.3815307617188,
          923.0149536132812,
          920.5439453125,
          915.9973754882812,
          901.6655883789062,
          905.2237548828124,
          910.1163330078124,
          909.7210083007812,
          906.8052978515624,
          905.4708862304688,
          910.6599731445312,
          919.7532348632812,
          929.9337158203124,
          936.6548461914062,
          943.3265380859376,
          960.079833984375,
          972.9290161132812,
          971.248779296875,
          985.5805053710938,
          990.868408203125,
          996.2552490234376,
          1002.4326782226562,
          1003.7670288085938,
          984.4932861328124,
          1007.424072265625,
          1019.9766845703124,
          1000.75244140625,
          992.7958374023438,
          967.5916748046876,
          960.53076171875,
          939.7459106445312,
          967.0944213867188,
          955.3096923828124,
          965.9507446289062,
          984.647216796875,
          959.188232421875,
          972.1663208007812,
          991.608642578125,
          1020.0511474609376,
          1033.0791015625,
          1076.38916015625,
          1093.7431640625,
          1070.27294921875,
          1086.3341064453123,
          1086.5330810546877,
          1098.7652587890623,
          1122.4342041015623,
          1114.1302490234377,
          1104.8316650390623,
          1109.008544921875,
          1104.5333251953123,
          1123.6275634765623,
          1145.0589599609375,
          1179.4683837890625,
          1185.7833251953125,
          1161.91552734375,
          1170.4681396484375,
          1186.031982421875,
          1177.67822265625,
          1210.9937744140625,
          1211.2423095703125,
          1197.568115234375,
          1181.158935546875,
          1203.932861328125,
          1194.1868896484375,
          1197.12060546875,
          1228.09912109375,
          1240.331298828125,
          1262.458740234375,
          1270.4644775390625,
          1284.3873291015625,
          1311.73583984375,
          1287.0723876953125,
          1267.43115234375,
          1234.8118896484375,
          1222.3807373046875,
          1235.1102294921875,
          1220.2425537109375,
          1254.453125,
          1271.558349609375,
          1248.93359375,
          1230.883544921875,
          1245.6021728515625,
          1246.24853515625,
          1219.148681640625,
          1210.44677734375,
          1204.08203125,
          1210.794921875,
          1225.2647705078125,
          1223.82275390625,
          1244.5081787109375,
          1246.84521484375,
          1251.0220947265625,
          1224.9166259765625,
          1198.463134765625,
          1116.0694580078123,
          1043.0736083984377,
          1103.290283203125,
          1084.046875,
          1096.0303955078123,
          1081.8092041015623,
          1120.3458251953123,
          1133.4730224609375,
          1157.390625,
          1144.95947265625,
          1095.23486328125,
          1056.7977294921877,
          1048.891357421875,
          1039.99072265625,
          1025.1231689453123,
          1039.1455078125,
          1081.8092041015623,
          1051.1788330078123,
          1055.4053955078123,
          1050.4329833984377,
          1068.980224609375,
          1084.29541015625,
          1098.0194091796877,
          1104.5830078125,
          1087.427978515625,
          1074.0521240234377,
          1093.39501953125,
          1091.9031982421877,
          1090.809326171875,
          1121.191162109375,
          1143.6666259765625,
          1131.135986328125,
          1106.77099609375,
          1096.7762451171877,
          1103.6383056640623,
          1121.986572265625,
          1146.302001953125,
          1162.064697265625,
          1161.1199951171875,
          1150.0810546875,
          1145.9539794921875,
          1148.788330078125,
          1117.4617919921877,
          1127.555908203125,
          1084.2457275390623,
          1091.5054931640623,
          1104.3841552734377,
          1100.9532470703123,
          1106.07470703125,
          1123.6773681640623,
          1130.1414794921875,
          1130.539306640625,
          1122.2352294921877,
          1094.140869140625,
          1083.1517333984377,
          1092.301025390625,
          1114.0306396484377,
          1119.351318359375,
          1115.074951171875,
          1114.8262939453123,
          1100.3067626953123,
          1086.73193359375,
          1092.5994873046877,
          1098.665771484375,
          1098.56640625,
          1104.6328125,
          1101.400634765625,
          1092.0028076171877,
          1090.7596435546877,
          1123.4287109375,
          1129.644287109375,
          1128.2021484375,
          1177.827392578125,
          1230.883544921875,
          1228.34765625,
          1219.5465087890625,
          1240.579833984375,
          1239.137939453125,
          1222.778564453125,
          1203.982666015625,
          1189.1148681640625,
          1220.3917236328125,
          1243.066162109375,
          1283.7906494140625,
          1284.4371337890625,
          1303.0340576171875,
          1283.29345703125,
          1270.663330078125,
          1246.3480224609375,
          1249.480712890625,
          1217.4578857421875,
          1237.596435546875,
          1213.3804931640625,
          1209.402587890625,
          1227.552001953125,
          1240.032958984375,
          1225.5631103515625,
          1225.513427734375,
          1213.52978515625,
          1216.7618408203125,
          1224.270263671875,
          1219.2978515625,
          1230.833984375,
          1257.83447265625,
          1263.25439453125,
          1260.1217041015625,
          1296.91796875,
          1324.017822265625,
          1339.880126953125,
          1334.1617431640625,
          1314.371337890625,
          1342.614990234375,
          1368.968994140625,
          1367.875,
          1334.360595703125,
          1317.15576171875,
          1359.72021484375,
          1341.8193359375,
          1352.5101318359375,
          1384.1846923828125,
          1382.0465087890625,
          1367.6263427734375,
          1345.598388671875,
          1346.4437255859375,
          1321.929443359375,
          1327.1007080078125,
          1324.067626953125,
          1339.3828125,
          1335.703125,
          1332.7694091796875,
          1336.349609375,
          1378.317138671875,
          1337.9407958984375,
          1356.3388671875,
          1381.84765625,
          1364.841796875,
          1385.1295166015625,
          1385.1295166015625,
          1397.31201171875,
          1401.091064453125,
          1377.27294921875,
          1336.1009521484375,
          1292.29345703125,
          1249.5302734375,
          1244.259521484375,
          1225.2647705078125,
          1253.50830078125,
          1249.9779052734375,
          1258.38134765625,
          1260.4200439453125,
          1318.597900390625,
          1332.42138671875,
          1333.01806640625,
          1326.5538330078125,
          1329.487548828125,
          1303.431884765625,
          1316.459716796875,
          1305.8187255859375,
          1322.4266357421875,
          1322.824462890625,
          1352.708984375,
          1344.2060546875,
          1320.0399169921875,
          1307.658447265625,
          1311.8851318359375,
          1321.8299560546875,
          1324.8134765625,
          1319.9404296875,
          1310.2939453125,
          1275.238037109375,
          1273.9451904296875,
          1270.315185546875,
          1289.6083984375,
          1272.453369140625,
          1255.4476318359375,
          1288.71337890625,
          1287.022705078125,
          1267.1329345703125,
          1246.19873046875,
          1261.862060546875,
          1271.458984375,
          1275.4866943359375,
          1276.9285888671875,
          1256.392333984375,
          1245.1546630859375,
          1273.050048828125,
          1271.8070068359375,
          1274.4921875,
          1273.4478759765625,
          1269.0721435546875,
          1285.8790283203125,
          1274.7904052734375,
          1254.900634765625,
          1242.121337890625,
          1273.4478759765625,
          1266.5362548828125,
          1252.165771484375,
          1224.7177734375,
          1207.1153564453125,
          1204.2808837890625,
          1174.396484375,
          1159.8271484375,
          1173.75,
          1184.3499755859375,
          1143.3499755859375,
          1128.300048828125,
          1109.4000244140623,
          1152.3499755859375,
          1162.0999755859375,
          1274.75,
          1288.25,
          1278,
          1292.5999755859375,
          1275.949951171875,
          1270.949951171875,
          1246.75,
          1275.8499755859375,
          1266.800048828125,
          1274.8499755859375,
          1263.300048828125,
          1241.75,
          1248.550048828125,
          1206.4000244140625,
          1201.1500244140625,
          1198.5999755859375,
          1222.5,
          1222.199951171875
         ],
         "yaxis": "y"
        }
       ],
       "layout": {
        "height": 600,
        "legend": {
         "tracegroupgap": 0
        },
        "margin": {
         "t": 60
        },
        "template": {
         "data": {
          "bar": [
           {
            "error_x": {
             "color": "#2a3f5f"
            },
            "error_y": {
             "color": "#2a3f5f"
            },
            "marker": {
             "line": {
              "color": "#E5ECF6",
              "width": 0.5
             }
            },
            "type": "bar"
           }
          ],
          "barpolar": [
           {
            "marker": {
             "line": {
              "color": "#E5ECF6",
              "width": 0.5
             }
            },
            "type": "barpolar"
           }
          ],
          "carpet": [
           {
            "aaxis": {
             "endlinecolor": "#2a3f5f",
             "gridcolor": "white",
             "linecolor": "white",
             "minorgridcolor": "white",
             "startlinecolor": "#2a3f5f"
            },
            "baxis": {
             "endlinecolor": "#2a3f5f",
             "gridcolor": "white",
             "linecolor": "white",
             "minorgridcolor": "white",
             "startlinecolor": "#2a3f5f"
            },
            "type": "carpet"
           }
          ],
          "choropleth": [
           {
            "colorbar": {
             "outlinewidth": 0,
             "ticks": ""
            },
            "type": "choropleth"
           }
          ],
          "contour": [
           {
            "colorbar": {
             "outlinewidth": 0,
             "ticks": ""
            },
            "colorscale": [
             [
              0,
              "#0d0887"
             ],
             [
              0.1111111111111111,
              "#46039f"
             ],
             [
              0.2222222222222222,
              "#7201a8"
             ],
             [
              0.3333333333333333,
              "#9c179e"
             ],
             [
              0.4444444444444444,
              "#bd3786"
             ],
             [
              0.5555555555555556,
              "#d8576b"
             ],
             [
              0.6666666666666666,
              "#ed7953"
             ],
             [
              0.7777777777777778,
              "#fb9f3a"
             ],
             [
              0.8888888888888888,
              "#fdca26"
             ],
             [
              1,
              "#f0f921"
             ]
            ],
            "type": "contour"
           }
          ],
          "contourcarpet": [
           {
            "colorbar": {
             "outlinewidth": 0,
             "ticks": ""
            },
            "type": "contourcarpet"
           }
          ],
          "heatmap": [
           {
            "colorbar": {
             "outlinewidth": 0,
             "ticks": ""
            },
            "colorscale": [
             [
              0,
              "#0d0887"
             ],
             [
              0.1111111111111111,
              "#46039f"
             ],
             [
              0.2222222222222222,
              "#7201a8"
             ],
             [
              0.3333333333333333,
              "#9c179e"
             ],
             [
              0.4444444444444444,
              "#bd3786"
             ],
             [
              0.5555555555555556,
              "#d8576b"
             ],
             [
              0.6666666666666666,
              "#ed7953"
             ],
             [
              0.7777777777777778,
              "#fb9f3a"
             ],
             [
              0.8888888888888888,
              "#fdca26"
             ],
             [
              1,
              "#f0f921"
             ]
            ],
            "type": "heatmap"
           }
          ],
          "heatmapgl": [
           {
            "colorbar": {
             "outlinewidth": 0,
             "ticks": ""
            },
            "colorscale": [
             [
              0,
              "#0d0887"
             ],
             [
              0.1111111111111111,
              "#46039f"
             ],
             [
              0.2222222222222222,
              "#7201a8"
             ],
             [
              0.3333333333333333,
              "#9c179e"
             ],
             [
              0.4444444444444444,
              "#bd3786"
             ],
             [
              0.5555555555555556,
              "#d8576b"
             ],
             [
              0.6666666666666666,
              "#ed7953"
             ],
             [
              0.7777777777777778,
              "#fb9f3a"
             ],
             [
              0.8888888888888888,
              "#fdca26"
             ],
             [
              1,
              "#f0f921"
             ]
            ],
            "type": "heatmapgl"
           }
          ],
          "histogram": [
           {
            "marker": {
             "colorbar": {
              "outlinewidth": 0,
              "ticks": ""
             }
            },
            "type": "histogram"
           }
          ],
          "histogram2d": [
           {
            "colorbar": {
             "outlinewidth": 0,
             "ticks": ""
            },
            "colorscale": [
             [
              0,
              "#0d0887"
             ],
             [
              0.1111111111111111,
              "#46039f"
             ],
             [
              0.2222222222222222,
              "#7201a8"
             ],
             [
              0.3333333333333333,
              "#9c179e"
             ],
             [
              0.4444444444444444,
              "#bd3786"
             ],
             [
              0.5555555555555556,
              "#d8576b"
             ],
             [
              0.6666666666666666,
              "#ed7953"
             ],
             [
              0.7777777777777778,
              "#fb9f3a"
             ],
             [
              0.8888888888888888,
              "#fdca26"
             ],
             [
              1,
              "#f0f921"
             ]
            ],
            "type": "histogram2d"
           }
          ],
          "histogram2dcontour": [
           {
            "colorbar": {
             "outlinewidth": 0,
             "ticks": ""
            },
            "colorscale": [
             [
              0,
              "#0d0887"
             ],
             [
              0.1111111111111111,
              "#46039f"
             ],
             [
              0.2222222222222222,
              "#7201a8"
             ],
             [
              0.3333333333333333,
              "#9c179e"
             ],
             [
              0.4444444444444444,
              "#bd3786"
             ],
             [
              0.5555555555555556,
              "#d8576b"
             ],
             [
              0.6666666666666666,
              "#ed7953"
             ],
             [
              0.7777777777777778,
              "#fb9f3a"
             ],
             [
              0.8888888888888888,
              "#fdca26"
             ],
             [
              1,
              "#f0f921"
             ]
            ],
            "type": "histogram2dcontour"
           }
          ],
          "mesh3d": [
           {
            "colorbar": {
             "outlinewidth": 0,
             "ticks": ""
            },
            "type": "mesh3d"
           }
          ],
          "parcoords": [
           {
            "line": {
             "colorbar": {
              "outlinewidth": 0,
              "ticks": ""
             }
            },
            "type": "parcoords"
           }
          ],
          "scatter": [
           {
            "marker": {
             "colorbar": {
              "outlinewidth": 0,
              "ticks": ""
             }
            },
            "type": "scatter"
           }
          ],
          "scatter3d": [
           {
            "line": {
             "colorbar": {
              "outlinewidth": 0,
              "ticks": ""
             }
            },
            "marker": {
             "colorbar": {
              "outlinewidth": 0,
              "ticks": ""
             }
            },
            "type": "scatter3d"
           }
          ],
          "scattercarpet": [
           {
            "marker": {
             "colorbar": {
              "outlinewidth": 0,
              "ticks": ""
             }
            },
            "type": "scattercarpet"
           }
          ],
          "scattergeo": [
           {
            "marker": {
             "colorbar": {
              "outlinewidth": 0,
              "ticks": ""
             }
            },
            "type": "scattergeo"
           }
          ],
          "scattergl": [
           {
            "marker": {
             "colorbar": {
              "outlinewidth": 0,
              "ticks": ""
             }
            },
            "type": "scattergl"
           }
          ],
          "scattermapbox": [
           {
            "marker": {
             "colorbar": {
              "outlinewidth": 0,
              "ticks": ""
             }
            },
            "type": "scattermapbox"
           }
          ],
          "scatterpolar": [
           {
            "marker": {
             "colorbar": {
              "outlinewidth": 0,
              "ticks": ""
             }
            },
            "type": "scatterpolar"
           }
          ],
          "scatterpolargl": [
           {
            "marker": {
             "colorbar": {
              "outlinewidth": 0,
              "ticks": ""
             }
            },
            "type": "scatterpolargl"
           }
          ],
          "scatterternary": [
           {
            "marker": {
             "colorbar": {
              "outlinewidth": 0,
              "ticks": ""
             }
            },
            "type": "scatterternary"
           }
          ],
          "surface": [
           {
            "colorbar": {
             "outlinewidth": 0,
             "ticks": ""
            },
            "colorscale": [
             [
              0,
              "#0d0887"
             ],
             [
              0.1111111111111111,
              "#46039f"
             ],
             [
              0.2222222222222222,
              "#7201a8"
             ],
             [
              0.3333333333333333,
              "#9c179e"
             ],
             [
              0.4444444444444444,
              "#bd3786"
             ],
             [
              0.5555555555555556,
              "#d8576b"
             ],
             [
              0.6666666666666666,
              "#ed7953"
             ],
             [
              0.7777777777777778,
              "#fb9f3a"
             ],
             [
              0.8888888888888888,
              "#fdca26"
             ],
             [
              1,
              "#f0f921"
             ]
            ],
            "type": "surface"
           }
          ],
          "table": [
           {
            "cells": {
             "fill": {
              "color": "#EBF0F8"
             },
             "line": {
              "color": "white"
             }
            },
            "header": {
             "fill": {
              "color": "#C8D4E3"
             },
             "line": {
              "color": "white"
             }
            },
            "type": "table"
           }
          ]
         },
         "layout": {
          "annotationdefaults": {
           "arrowcolor": "#2a3f5f",
           "arrowhead": 0,
           "arrowwidth": 1
          },
          "colorscale": {
           "diverging": [
            [
             0,
             "#8e0152"
            ],
            [
             0.1,
             "#c51b7d"
            ],
            [
             0.2,
             "#de77ae"
            ],
            [
             0.3,
             "#f1b6da"
            ],
            [
             0.4,
             "#fde0ef"
            ],
            [
             0.5,
             "#f7f7f7"
            ],
            [
             0.6,
             "#e6f5d0"
            ],
            [
             0.7,
             "#b8e186"
            ],
            [
             0.8,
             "#7fbc41"
            ],
            [
             0.9,
             "#4d9221"
            ],
            [
             1,
             "#276419"
            ]
           ],
           "sequential": [
            [
             0,
             "#0d0887"
            ],
            [
             0.1111111111111111,
             "#46039f"
            ],
            [
             0.2222222222222222,
             "#7201a8"
            ],
            [
             0.3333333333333333,
             "#9c179e"
            ],
            [
             0.4444444444444444,
             "#bd3786"
            ],
            [
             0.5555555555555556,
             "#d8576b"
            ],
            [
             0.6666666666666666,
             "#ed7953"
            ],
            [
             0.7777777777777778,
             "#fb9f3a"
            ],
            [
             0.8888888888888888,
             "#fdca26"
            ],
            [
             1,
             "#f0f921"
            ]
           ],
           "sequentialminus": [
            [
             0,
             "#0d0887"
            ],
            [
             0.1111111111111111,
             "#46039f"
            ],
            [
             0.2222222222222222,
             "#7201a8"
            ],
            [
             0.3333333333333333,
             "#9c179e"
            ],
            [
             0.4444444444444444,
             "#bd3786"
            ],
            [
             0.5555555555555556,
             "#d8576b"
            ],
            [
             0.6666666666666666,
             "#ed7953"
            ],
            [
             0.7777777777777778,
             "#fb9f3a"
            ],
            [
             0.8888888888888888,
             "#fdca26"
            ],
            [
             1,
             "#f0f921"
            ]
           ]
          },
          "colorway": [
           "#636efa",
           "#EF553B",
           "#00cc96",
           "#ab63fa",
           "#FFA15A",
           "#19d3f3",
           "#FF6692",
           "#B6E880",
           "#FF97FF",
           "#FECB52"
          ],
          "font": {
           "color": "#2a3f5f"
          },
          "geo": {
           "bgcolor": "white",
           "lakecolor": "white",
           "landcolor": "#E5ECF6",
           "showlakes": true,
           "showland": true,
           "subunitcolor": "white"
          },
          "hoverlabel": {
           "align": "left"
          },
          "hovermode": "closest",
          "mapbox": {
           "style": "light"
          },
          "paper_bgcolor": "white",
          "plot_bgcolor": "#E5ECF6",
          "polar": {
           "angularaxis": {
            "gridcolor": "white",
            "linecolor": "white",
            "ticks": ""
           },
           "bgcolor": "#E5ECF6",
           "radialaxis": {
            "gridcolor": "white",
            "linecolor": "white",
            "ticks": ""
           }
          },
          "scene": {
           "xaxis": {
            "backgroundcolor": "#E5ECF6",
            "gridcolor": "white",
            "gridwidth": 2,
            "linecolor": "white",
            "showbackground": true,
            "ticks": "",
            "zerolinecolor": "white"
           },
           "yaxis": {
            "backgroundcolor": "#E5ECF6",
            "gridcolor": "white",
            "gridwidth": 2,
            "linecolor": "white",
            "showbackground": true,
            "ticks": "",
            "zerolinecolor": "white"
           },
           "zaxis": {
            "backgroundcolor": "#E5ECF6",
            "gridcolor": "white",
            "gridwidth": 2,
            "linecolor": "white",
            "showbackground": true,
            "ticks": "",
            "zerolinecolor": "white"
           }
          },
          "shapedefaults": {
           "line": {
            "color": "#2a3f5f"
           }
          },
          "ternary": {
           "aaxis": {
            "gridcolor": "white",
            "linecolor": "white",
            "ticks": ""
           },
           "baxis": {
            "gridcolor": "white",
            "linecolor": "white",
            "ticks": ""
           },
           "bgcolor": "#E5ECF6",
           "caxis": {
            "gridcolor": "white",
            "linecolor": "white",
            "ticks": ""
           }
          },
          "title": {
           "x": 0.05
          },
          "xaxis": {
           "automargin": true,
           "gridcolor": "white",
           "linecolor": "white",
           "ticks": "",
           "zerolinecolor": "white",
           "zerolinewidth": 2
          },
          "yaxis": {
           "automargin": true,
           "gridcolor": "white",
           "linecolor": "white",
           "ticks": "",
           "zerolinecolor": "white",
           "zerolinewidth": 2
          }
         }
        },
        "xaxis": {
         "anchor": "y",
         "domain": [
          0,
          0.98
         ],
         "title": {
          "text": "Date"
         }
        },
        "yaxis": {
         "anchor": "x",
         "domain": [
          0,
          1
         ],
         "title": {
          "text": "Adj Close"
         }
        }
       }
      },
      "text/html": [
       "<div>\n",
       "        \n",
       "        \n",
       "            <div id=\"ab7c88b0-6658-48cd-ba07-c742508300be\" class=\"plotly-graph-div\" style=\"height:600px; width:100%;\"></div>\n",
       "            <script type=\"text/javascript\">\n",
       "                require([\"plotly\"], function(Plotly) {\n",
       "                    window.PLOTLYENV=window.PLOTLYENV || {};\n",
       "                    \n",
       "                if (document.getElementById(\"ab7c88b0-6658-48cd-ba07-c742508300be\")) {\n",
       "                    Plotly.newPlot(\n",
       "                        'ab7c88b0-6658-48cd-ba07-c742508300be',\n",
       "                        [{\"hoverlabel\": {\"namelength\": 0}, \"hovertemplate\": \"Date=%{x}<br>Adj Close=%{y}\", \"legendgroup\": \"\", \"line\": {\"color\": \"#636efa\", \"dash\": \"solid\"}, \"mode\": \"lines\", \"name\": \"\", \"showlegend\": false, \"type\": \"scatter\", \"x\": [\"2018-01-01\", \"2018-01-02\", \"2018-01-03\", \"2018-01-04\", \"2018-01-05\", \"2018-01-08\", \"2018-01-09\", \"2018-01-10\", \"2018-01-11\", \"2018-01-12\", \"2018-01-15\", \"2018-01-16\", \"2018-01-17\", \"2018-01-18\", \"2018-01-19\", \"2018-01-22\", \"2018-01-23\", \"2018-01-24\", \"2018-01-25\", \"2018-01-29\", \"2018-01-30\", \"2018-01-31\", \"2018-02-01\", \"2018-02-02\", \"2018-02-05\", \"2018-02-06\", \"2018-02-07\", \"2018-02-08\", \"2018-02-09\", \"2018-02-12\", \"2018-02-14\", \"2018-02-15\", \"2018-02-16\", \"2018-02-19\", \"2018-02-20\", \"2018-02-21\", \"2018-02-22\", \"2018-02-23\", \"2018-02-26\", \"2018-02-27\", \"2018-02-28\", \"2018-03-01\", \"2018-03-05\", \"2018-03-06\", \"2018-03-07\", \"2018-03-08\", \"2018-03-09\", \"2018-03-12\", \"2018-03-13\", \"2018-03-14\", \"2018-03-15\", \"2018-03-16\", \"2018-03-19\", \"2018-03-20\", \"2018-03-21\", \"2018-03-22\", \"2018-03-23\", \"2018-03-26\", \"2018-03-27\", \"2018-03-28\", \"2018-04-02\", \"2018-04-03\", \"2018-04-04\", \"2018-04-05\", \"2018-04-06\", \"2018-04-09\", \"2018-04-10\", \"2018-04-11\", \"2018-04-12\", \"2018-04-13\", \"2018-04-16\", \"2018-04-17\", \"2018-04-18\", \"2018-04-19\", \"2018-04-20\", \"2018-04-23\", \"2018-04-24\", \"2018-04-25\", \"2018-04-26\", \"2018-04-27\", \"2018-04-30\", \"2018-05-02\", \"2018-05-03\", \"2018-05-04\", \"2018-05-07\", \"2018-05-08\", \"2018-05-09\", \"2018-05-10\", \"2018-05-11\", \"2018-05-14\", \"2018-05-15\", \"2018-05-16\", \"2018-05-17\", \"2018-05-18\", \"2018-05-21\", \"2018-05-22\", \"2018-05-23\", \"2018-05-24\", \"2018-05-25\", \"2018-05-28\", \"2018-05-29\", \"2018-05-30\", \"2018-05-31\", \"2018-06-01\", \"2018-06-04\", \"2018-06-05\", \"2018-06-06\", \"2018-06-07\", \"2018-06-08\", \"2018-06-11\", \"2018-06-12\", \"2018-06-13\", \"2018-06-14\", \"2018-06-15\", \"2018-06-18\", \"2018-06-19\", \"2018-06-20\", \"2018-06-21\", \"2018-06-22\", \"2018-06-25\", \"2018-06-26\", \"2018-06-27\", \"2018-06-28\", \"2018-06-29\", \"2018-07-02\", \"2018-07-03\", \"2018-07-04\", \"2018-07-05\", \"2018-07-06\", \"2018-07-09\", \"2018-07-10\", \"2018-07-11\", \"2018-07-12\", \"2018-07-13\", \"2018-07-16\", \"2018-07-17\", \"2018-07-18\", \"2018-07-19\", \"2018-07-20\", \"2018-07-23\", \"2018-07-24\", \"2018-07-25\", \"2018-07-26\", \"2018-07-27\", \"2018-07-30\", \"2018-07-31\", \"2018-08-01\", \"2018-08-02\", \"2018-08-03\", \"2018-08-06\", \"2018-08-07\", \"2018-08-08\", \"2018-08-09\", \"2018-08-10\", \"2018-08-13\", \"2018-08-14\", \"2018-08-16\", \"2018-08-17\", \"2018-08-20\", \"2018-08-21\", \"2018-08-23\", \"2018-08-24\", \"2018-08-27\", \"2018-08-28\", \"2018-08-29\", \"2018-08-30\", \"2018-08-31\", \"2018-09-03\", \"2018-09-04\", \"2018-09-05\", \"2018-09-06\", \"2018-09-07\", \"2018-09-10\", \"2018-09-11\", \"2018-09-12\", \"2018-09-14\", \"2018-09-17\", \"2018-09-18\", \"2018-09-19\", \"2018-09-21\", \"2018-09-24\", \"2018-09-25\", \"2018-09-26\", \"2018-09-27\", \"2018-09-28\", \"2018-10-01\", \"2018-10-03\", \"2018-10-04\", \"2018-10-05\", \"2018-10-08\", \"2018-10-09\", \"2018-10-10\", \"2018-10-11\", \"2018-10-12\", \"2018-10-15\", \"2018-10-16\", \"2018-10-17\", \"2018-10-19\", \"2018-10-22\", \"2018-10-23\", \"2018-10-24\", \"2018-10-25\", \"2018-10-26\", \"2018-10-29\", \"2018-10-30\", \"2018-10-31\", \"2018-11-01\", \"2018-11-02\", \"2018-11-05\", \"2018-11-06\", \"2018-11-07\", \"2018-11-09\", \"2018-11-12\", \"2018-11-13\", \"2018-11-14\", \"2018-11-15\", \"2018-11-16\", \"2018-11-19\", \"2018-11-20\", \"2018-11-21\", \"2018-11-22\", \"2018-11-26\", \"2018-11-27\", \"2018-11-28\", \"2018-11-29\", \"2018-11-30\", \"2018-12-03\", \"2018-12-04\", \"2018-12-05\", \"2018-12-06\", \"2018-12-07\", \"2018-12-10\", \"2018-12-11\", \"2018-12-12\", \"2018-12-13\", \"2018-12-14\", \"2018-12-17\", \"2018-12-18\", \"2018-12-19\", \"2018-12-20\", \"2018-12-21\", \"2018-12-24\", \"2018-12-26\", \"2018-12-27\", \"2018-12-28\", \"2018-12-31\", \"2019-01-01\", \"2019-01-02\", \"2019-01-03\", \"2019-01-04\", \"2019-01-07\", \"2019-01-08\", \"2019-01-09\", \"2019-01-10\", \"2019-01-11\", \"2019-01-14\", \"2019-01-15\", \"2019-01-16\", \"2019-01-17\", \"2019-01-18\", \"2019-01-21\", \"2019-01-22\", \"2019-01-23\", \"2019-01-24\", \"2019-01-25\", \"2019-01-28\", \"2019-01-29\", \"2019-01-30\", \"2019-01-31\", \"2019-02-01\", \"2019-02-04\", \"2019-02-05\", \"2019-02-06\", \"2019-02-07\", \"2019-02-08\", \"2019-02-11\", \"2019-02-12\", \"2019-02-14\", \"2019-02-15\", \"2019-02-18\", \"2019-02-19\", \"2019-02-20\", \"2019-02-21\", \"2019-02-22\", \"2019-02-25\", \"2019-02-26\", \"2019-02-27\", \"2019-02-28\", \"2019-03-01\", \"2019-03-05\", \"2019-03-06\", \"2019-03-07\", \"2019-03-08\", \"2019-03-11\", \"2019-03-12\", \"2019-03-13\", \"2019-03-14\", \"2019-03-15\", \"2019-03-18\", \"2019-03-19\", \"2019-03-20\", \"2019-03-22\", \"2019-03-25\", \"2019-03-26\", \"2019-03-27\", \"2019-03-28\", \"2019-04-01\", \"2019-04-02\", \"2019-04-03\", \"2019-04-04\", \"2019-04-05\", \"2019-04-08\", \"2019-04-09\", \"2019-04-10\", \"2019-04-11\", \"2019-04-12\", \"2019-04-15\", \"2019-04-16\", \"2019-04-18\", \"2019-04-22\", \"2019-04-23\", \"2019-04-24\", \"2019-04-25\", \"2019-04-26\", \"2019-04-30\", \"2019-05-02\", \"2019-05-03\", \"2019-05-06\", \"2019-05-07\", \"2019-05-08\", \"2019-05-09\", \"2019-05-10\", \"2019-05-13\", \"2019-05-14\", \"2019-05-15\", \"2019-05-16\", \"2019-05-17\", \"2019-05-20\", \"2019-05-21\", \"2019-05-22\", \"2019-05-23\", \"2019-05-24\", \"2019-05-27\", \"2019-05-28\", \"2019-05-29\", \"2019-05-30\", \"2019-05-31\", \"2019-06-03\", \"2019-06-04\", \"2019-06-06\", \"2019-06-07\", \"2019-06-10\", \"2019-06-11\", \"2019-06-12\", \"2019-06-13\", \"2019-06-14\", \"2019-06-17\", \"2019-06-18\", \"2019-06-19\", \"2019-06-20\", \"2019-06-21\", \"2019-06-24\", \"2019-06-25\", \"2019-06-26\", \"2019-06-27\", \"2019-06-28\", \"2019-07-01\", \"2019-07-02\", \"2019-07-03\", \"2019-07-04\", \"2019-07-05\", \"2019-07-08\", \"2019-07-09\", \"2019-07-10\", \"2019-07-11\", \"2019-07-12\", \"2019-07-15\", \"2019-07-16\", \"2019-07-17\", \"2019-07-18\", \"2019-07-19\", \"2019-07-22\", \"2019-07-23\", \"2019-07-24\", \"2019-07-25\", \"2019-07-26\", \"2019-07-29\", \"2019-07-30\", \"2019-07-31\", \"2019-08-01\", \"2019-08-02\", \"2019-08-05\", \"2019-08-06\", \"2019-08-07\", \"2019-08-08\", \"2019-08-09\", \"2019-08-13\", \"2019-08-14\", \"2019-08-16\", \"2019-08-19\", \"2019-08-20\", \"2019-08-21\", \"2019-08-22\", \"2019-08-23\", \"2019-08-26\", \"2019-08-27\", \"2019-08-28\", \"2019-08-29\", \"2019-08-30\", \"2019-09-03\", \"2019-09-04\", \"2019-09-05\", \"2019-09-06\", \"2019-09-09\"], \"xaxis\": \"x\", \"y\": [899.194580078125, 900.578369140625, 904.1859741210938, 909.6221313476562, 912.5379028320312, 917.7764282226562, 930.0325927734376, 931.4163208007812, 926.8696899414062, 937.9891357421876, 938.137451171875, 912.2413940429688, 913.7734375, 909.0291748046876, 920.4945068359376, 960.2280883789062, 971.841796875, 955.1378173828124, 954.693115234375, 953.309326171875, 939.3729858398438, 950.1464233398438, 932.89892578125, 893.857177734375, 891.6828002929688, 881.7493286132812, 884.022705078125, 894.0548706054688, 887.4326171875, 904.8778076171876, 922.8173217773438, 924.7940673828124, 910.6105346679688, 916.2444458007812, 910.412841796875, 918.567138671875, 913.6251831054688, 923.4103393554688, 927.8087158203124, 939.4718017578124, 943.4747314453124, 937.3961791992188, 913.3780517578124, 900.28173828125, 879.4266357421875, 900.8748779296876, 902.5056762695312, 919.506103515625, 921.0381469726562, 918.2706298828124, 901.2207641601562, 889.6071166992188, 885.1099243164062, 879.4760131835938, 886.49365234375, 897.6131591796875, 883.5284423828125, 890.6448974609375, 889.3599853515625, 872.4584350585938, 882.5895385742188, 889.1129150390625, 884.5169067382812, 897.6625366210938, 900.4300537109375, 905.3720703125, 906.4098510742188, 920.0497436523438, 917.9247436523438, 927.9569091796876, 926.1777954101562, 933.2942504882812, 927.1168212890624, 931.3668823242188, 917.1339721679688, 925.1400146484376, 958.794921875, 959.2396850585938, 964.0333862304688, 984.7403564453124, 952.1232299804688, 961.4141845703124, 950.4429321289062, 942.8817138671876, 959.73388671875, 955.879150390625, 965.3677978515624, 969.7661743164062, 977.772216796875, 975.1528930664062, 967.5916748046876, 945.0562133789062, 934.3815307617188, 923.0149536132812, 920.5439453125, 915.9973754882812, 901.6655883789062, 905.2237548828124, 910.1163330078124, 909.7210083007812, 906.8052978515624, 905.4708862304688, 910.6599731445312, 919.7532348632812, 929.9337158203124, 936.6548461914062, 943.3265380859376, 960.079833984375, 972.9290161132812, 971.248779296875, 985.5805053710938, 990.868408203125, 996.2552490234376, 1002.4326782226562, 1003.7670288085938, 984.4932861328124, 1007.424072265625, 1019.9766845703124, 1000.75244140625, 992.7958374023438, 967.5916748046876, 960.53076171875, 939.7459106445312, 967.0944213867188, 955.3096923828124, 965.9507446289062, 984.647216796875, 959.188232421875, 972.1663208007812, 991.608642578125, 1020.0511474609376, 1033.0791015625, 1076.38916015625, 1093.7431640625, 1070.27294921875, 1086.3341064453123, 1086.5330810546877, 1098.7652587890623, 1122.4342041015623, 1114.1302490234377, 1104.8316650390623, 1109.008544921875, 1104.5333251953123, 1123.6275634765623, 1145.0589599609375, 1179.4683837890625, 1185.7833251953125, 1161.91552734375, 1170.4681396484375, 1186.031982421875, 1177.67822265625, 1210.9937744140625, 1211.2423095703125, 1197.568115234375, 1181.158935546875, 1203.932861328125, 1194.1868896484375, 1197.12060546875, 1228.09912109375, 1240.331298828125, 1262.458740234375, 1270.4644775390625, 1284.3873291015625, 1311.73583984375, 1287.0723876953125, 1267.43115234375, 1234.8118896484375, 1222.3807373046875, 1235.1102294921875, 1220.2425537109375, 1254.453125, 1271.558349609375, 1248.93359375, 1230.883544921875, 1245.6021728515625, 1246.24853515625, 1219.148681640625, 1210.44677734375, 1204.08203125, 1210.794921875, 1225.2647705078125, 1223.82275390625, 1244.5081787109375, 1246.84521484375, 1251.0220947265625, 1224.9166259765625, 1198.463134765625, 1116.0694580078123, 1043.0736083984377, 1103.290283203125, 1084.046875, 1096.0303955078123, 1081.8092041015623, 1120.3458251953123, 1133.4730224609375, 1157.390625, 1144.95947265625, 1095.23486328125, 1056.7977294921877, 1048.891357421875, 1039.99072265625, 1025.1231689453123, 1039.1455078125, 1081.8092041015623, 1051.1788330078123, 1055.4053955078123, 1050.4329833984377, 1068.980224609375, 1084.29541015625, 1098.0194091796877, 1104.5830078125, 1087.427978515625, 1074.0521240234377, 1093.39501953125, 1091.9031982421877, 1090.809326171875, 1121.191162109375, 1143.6666259765625, 1131.135986328125, 1106.77099609375, 1096.7762451171877, 1103.6383056640623, 1121.986572265625, 1146.302001953125, 1162.064697265625, 1161.1199951171875, 1150.0810546875, 1145.9539794921875, 1148.788330078125, 1117.4617919921877, 1127.555908203125, 1084.2457275390623, 1091.5054931640623, 1104.3841552734377, 1100.9532470703123, 1106.07470703125, 1123.6773681640623, 1130.1414794921875, 1130.539306640625, 1122.2352294921877, 1094.140869140625, 1083.1517333984377, 1092.301025390625, 1114.0306396484377, 1119.351318359375, 1115.074951171875, 1114.8262939453123, 1100.3067626953123, 1086.73193359375, 1092.5994873046877, 1098.665771484375, 1098.56640625, 1104.6328125, 1101.400634765625, 1092.0028076171877, 1090.7596435546877, 1123.4287109375, 1129.644287109375, 1128.2021484375, 1177.827392578125, 1230.883544921875, 1228.34765625, 1219.5465087890625, 1240.579833984375, 1239.137939453125, 1222.778564453125, 1203.982666015625, 1189.1148681640625, 1220.3917236328125, 1243.066162109375, 1283.7906494140625, 1284.4371337890625, 1303.0340576171875, 1283.29345703125, 1270.663330078125, 1246.3480224609375, 1249.480712890625, 1217.4578857421875, 1237.596435546875, 1213.3804931640625, 1209.402587890625, 1227.552001953125, 1240.032958984375, 1225.5631103515625, 1225.513427734375, 1213.52978515625, 1216.7618408203125, 1224.270263671875, 1219.2978515625, 1230.833984375, 1257.83447265625, 1263.25439453125, 1260.1217041015625, 1296.91796875, 1324.017822265625, 1339.880126953125, 1334.1617431640625, 1314.371337890625, 1342.614990234375, 1368.968994140625, 1367.875, 1334.360595703125, 1317.15576171875, 1359.72021484375, 1341.8193359375, 1352.5101318359375, 1384.1846923828125, 1382.0465087890625, 1367.6263427734375, 1345.598388671875, 1346.4437255859375, 1321.929443359375, 1327.1007080078125, 1324.067626953125, 1339.3828125, 1335.703125, 1332.7694091796875, 1336.349609375, 1378.317138671875, 1337.9407958984375, 1356.3388671875, 1381.84765625, 1364.841796875, 1385.1295166015625, 1385.1295166015625, 1397.31201171875, 1401.091064453125, 1377.27294921875, 1336.1009521484375, 1292.29345703125, 1249.5302734375, 1244.259521484375, 1225.2647705078125, 1253.50830078125, 1249.9779052734375, 1258.38134765625, 1260.4200439453125, 1318.597900390625, 1332.42138671875, 1333.01806640625, 1326.5538330078125, 1329.487548828125, 1303.431884765625, 1316.459716796875, 1305.8187255859375, 1322.4266357421875, 1322.824462890625, 1352.708984375, 1344.2060546875, 1320.0399169921875, 1307.658447265625, 1311.8851318359375, 1321.8299560546875, 1324.8134765625, 1319.9404296875, 1310.2939453125, 1275.238037109375, 1273.9451904296875, 1270.315185546875, 1289.6083984375, 1272.453369140625, 1255.4476318359375, 1288.71337890625, 1287.022705078125, 1267.1329345703125, 1246.19873046875, 1261.862060546875, 1271.458984375, 1275.4866943359375, 1276.9285888671875, 1256.392333984375, 1245.1546630859375, 1273.050048828125, 1271.8070068359375, 1274.4921875, 1273.4478759765625, 1269.0721435546875, 1285.8790283203125, 1274.7904052734375, 1254.900634765625, 1242.121337890625, 1273.4478759765625, 1266.5362548828125, 1252.165771484375, 1224.7177734375, 1207.1153564453125, 1204.2808837890625, 1174.396484375, 1159.8271484375, 1173.75, 1184.3499755859375, 1143.3499755859375, 1128.300048828125, 1109.4000244140623, 1152.3499755859375, 1162.0999755859375, 1274.75, 1288.25, 1278.0, 1292.5999755859375, 1275.949951171875, 1270.949951171875, 1246.75, 1275.8499755859375, 1266.800048828125, 1274.8499755859375, 1263.300048828125, 1241.75, 1248.550048828125, 1206.4000244140625, 1201.1500244140625, 1198.5999755859375, 1222.5, 1222.199951171875], \"yaxis\": \"y\"}],\n",
       "                        {\"height\": 600, \"legend\": {\"tracegroupgap\": 0}, \"margin\": {\"t\": 60}, \"template\": {\"data\": {\"bar\": [{\"error_x\": {\"color\": \"#2a3f5f\"}, \"error_y\": {\"color\": \"#2a3f5f\"}, \"marker\": {\"line\": {\"color\": \"#E5ECF6\", \"width\": 0.5}}, \"type\": \"bar\"}], \"barpolar\": [{\"marker\": {\"line\": {\"color\": \"#E5ECF6\", \"width\": 0.5}}, \"type\": \"barpolar\"}], \"carpet\": [{\"aaxis\": {\"endlinecolor\": \"#2a3f5f\", \"gridcolor\": \"white\", \"linecolor\": \"white\", \"minorgridcolor\": \"white\", \"startlinecolor\": \"#2a3f5f\"}, \"baxis\": {\"endlinecolor\": \"#2a3f5f\", \"gridcolor\": \"white\", \"linecolor\": \"white\", \"minorgridcolor\": \"white\", \"startlinecolor\": \"#2a3f5f\"}, \"type\": \"carpet\"}], \"choropleth\": [{\"colorbar\": {\"outlinewidth\": 0, \"ticks\": \"\"}, \"type\": \"choropleth\"}], \"contour\": [{\"colorbar\": {\"outlinewidth\": 0, \"ticks\": \"\"}, \"colorscale\": [[0.0, \"#0d0887\"], [0.1111111111111111, \"#46039f\"], [0.2222222222222222, \"#7201a8\"], [0.3333333333333333, \"#9c179e\"], [0.4444444444444444, \"#bd3786\"], [0.5555555555555556, \"#d8576b\"], [0.6666666666666666, \"#ed7953\"], [0.7777777777777778, \"#fb9f3a\"], [0.8888888888888888, \"#fdca26\"], [1.0, \"#f0f921\"]], \"type\": \"contour\"}], \"contourcarpet\": [{\"colorbar\": {\"outlinewidth\": 0, \"ticks\": \"\"}, \"type\": \"contourcarpet\"}], \"heatmap\": [{\"colorbar\": {\"outlinewidth\": 0, \"ticks\": \"\"}, \"colorscale\": [[0.0, \"#0d0887\"], [0.1111111111111111, \"#46039f\"], [0.2222222222222222, \"#7201a8\"], [0.3333333333333333, \"#9c179e\"], [0.4444444444444444, \"#bd3786\"], [0.5555555555555556, \"#d8576b\"], [0.6666666666666666, \"#ed7953\"], [0.7777777777777778, \"#fb9f3a\"], [0.8888888888888888, \"#fdca26\"], [1.0, \"#f0f921\"]], \"type\": \"heatmap\"}], \"heatmapgl\": [{\"colorbar\": {\"outlinewidth\": 0, \"ticks\": \"\"}, \"colorscale\": [[0.0, \"#0d0887\"], [0.1111111111111111, \"#46039f\"], [0.2222222222222222, \"#7201a8\"], [0.3333333333333333, \"#9c179e\"], [0.4444444444444444, \"#bd3786\"], [0.5555555555555556, \"#d8576b\"], [0.6666666666666666, \"#ed7953\"], [0.7777777777777778, \"#fb9f3a\"], [0.8888888888888888, \"#fdca26\"], [1.0, \"#f0f921\"]], \"type\": \"heatmapgl\"}], \"histogram\": [{\"marker\": {\"colorbar\": {\"outlinewidth\": 0, \"ticks\": \"\"}}, \"type\": \"histogram\"}], \"histogram2d\": [{\"colorbar\": {\"outlinewidth\": 0, \"ticks\": \"\"}, \"colorscale\": [[0.0, \"#0d0887\"], [0.1111111111111111, \"#46039f\"], [0.2222222222222222, \"#7201a8\"], [0.3333333333333333, \"#9c179e\"], [0.4444444444444444, \"#bd3786\"], [0.5555555555555556, \"#d8576b\"], [0.6666666666666666, \"#ed7953\"], [0.7777777777777778, \"#fb9f3a\"], [0.8888888888888888, \"#fdca26\"], [1.0, \"#f0f921\"]], \"type\": \"histogram2d\"}], \"histogram2dcontour\": [{\"colorbar\": {\"outlinewidth\": 0, \"ticks\": \"\"}, \"colorscale\": [[0.0, \"#0d0887\"], [0.1111111111111111, \"#46039f\"], [0.2222222222222222, \"#7201a8\"], [0.3333333333333333, \"#9c179e\"], [0.4444444444444444, \"#bd3786\"], [0.5555555555555556, \"#d8576b\"], [0.6666666666666666, \"#ed7953\"], [0.7777777777777778, \"#fb9f3a\"], [0.8888888888888888, \"#fdca26\"], [1.0, \"#f0f921\"]], \"type\": \"histogram2dcontour\"}], \"mesh3d\": [{\"colorbar\": {\"outlinewidth\": 0, \"ticks\": \"\"}, \"type\": \"mesh3d\"}], \"parcoords\": [{\"line\": {\"colorbar\": {\"outlinewidth\": 0, \"ticks\": \"\"}}, \"type\": \"parcoords\"}], \"scatter\": [{\"marker\": {\"colorbar\": {\"outlinewidth\": 0, \"ticks\": \"\"}}, \"type\": \"scatter\"}], \"scatter3d\": [{\"line\": {\"colorbar\": {\"outlinewidth\": 0, \"ticks\": \"\"}}, \"marker\": {\"colorbar\": {\"outlinewidth\": 0, \"ticks\": \"\"}}, \"type\": \"scatter3d\"}], \"scattercarpet\": [{\"marker\": {\"colorbar\": {\"outlinewidth\": 0, \"ticks\": \"\"}}, \"type\": \"scattercarpet\"}], \"scattergeo\": [{\"marker\": {\"colorbar\": {\"outlinewidth\": 0, \"ticks\": \"\"}}, \"type\": \"scattergeo\"}], \"scattergl\": [{\"marker\": {\"colorbar\": {\"outlinewidth\": 0, \"ticks\": \"\"}}, \"type\": \"scattergl\"}], \"scattermapbox\": [{\"marker\": {\"colorbar\": {\"outlinewidth\": 0, \"ticks\": \"\"}}, \"type\": \"scattermapbox\"}], \"scatterpolar\": [{\"marker\": {\"colorbar\": {\"outlinewidth\": 0, \"ticks\": \"\"}}, \"type\": \"scatterpolar\"}], \"scatterpolargl\": [{\"marker\": {\"colorbar\": {\"outlinewidth\": 0, \"ticks\": \"\"}}, \"type\": \"scatterpolargl\"}], \"scatterternary\": [{\"marker\": {\"colorbar\": {\"outlinewidth\": 0, \"ticks\": \"\"}}, \"type\": \"scatterternary\"}], \"surface\": [{\"colorbar\": {\"outlinewidth\": 0, \"ticks\": \"\"}, \"colorscale\": [[0.0, \"#0d0887\"], [0.1111111111111111, \"#46039f\"], [0.2222222222222222, \"#7201a8\"], [0.3333333333333333, \"#9c179e\"], [0.4444444444444444, \"#bd3786\"], [0.5555555555555556, \"#d8576b\"], [0.6666666666666666, \"#ed7953\"], [0.7777777777777778, \"#fb9f3a\"], [0.8888888888888888, \"#fdca26\"], [1.0, \"#f0f921\"]], \"type\": \"surface\"}], \"table\": [{\"cells\": {\"fill\": {\"color\": \"#EBF0F8\"}, \"line\": {\"color\": \"white\"}}, \"header\": {\"fill\": {\"color\": \"#C8D4E3\"}, \"line\": {\"color\": \"white\"}}, \"type\": \"table\"}]}, \"layout\": {\"annotationdefaults\": {\"arrowcolor\": \"#2a3f5f\", \"arrowhead\": 0, \"arrowwidth\": 1}, \"colorscale\": {\"diverging\": [[0, \"#8e0152\"], [0.1, \"#c51b7d\"], [0.2, \"#de77ae\"], [0.3, \"#f1b6da\"], [0.4, \"#fde0ef\"], [0.5, \"#f7f7f7\"], [0.6, \"#e6f5d0\"], [0.7, \"#b8e186\"], [0.8, \"#7fbc41\"], [0.9, \"#4d9221\"], [1, \"#276419\"]], \"sequential\": [[0.0, \"#0d0887\"], [0.1111111111111111, \"#46039f\"], [0.2222222222222222, \"#7201a8\"], [0.3333333333333333, \"#9c179e\"], [0.4444444444444444, \"#bd3786\"], [0.5555555555555556, \"#d8576b\"], [0.6666666666666666, \"#ed7953\"], [0.7777777777777778, \"#fb9f3a\"], [0.8888888888888888, \"#fdca26\"], [1.0, \"#f0f921\"]], \"sequentialminus\": [[0.0, \"#0d0887\"], [0.1111111111111111, \"#46039f\"], [0.2222222222222222, \"#7201a8\"], [0.3333333333333333, \"#9c179e\"], [0.4444444444444444, \"#bd3786\"], [0.5555555555555556, \"#d8576b\"], [0.6666666666666666, \"#ed7953\"], [0.7777777777777778, \"#fb9f3a\"], [0.8888888888888888, \"#fdca26\"], [1.0, \"#f0f921\"]]}, \"colorway\": [\"#636efa\", \"#EF553B\", \"#00cc96\", \"#ab63fa\", \"#FFA15A\", \"#19d3f3\", \"#FF6692\", \"#B6E880\", \"#FF97FF\", \"#FECB52\"], \"font\": {\"color\": \"#2a3f5f\"}, \"geo\": {\"bgcolor\": \"white\", \"lakecolor\": \"white\", \"landcolor\": \"#E5ECF6\", \"showlakes\": true, \"showland\": true, \"subunitcolor\": \"white\"}, \"hoverlabel\": {\"align\": \"left\"}, \"hovermode\": \"closest\", \"mapbox\": {\"style\": \"light\"}, \"paper_bgcolor\": \"white\", \"plot_bgcolor\": \"#E5ECF6\", \"polar\": {\"angularaxis\": {\"gridcolor\": \"white\", \"linecolor\": \"white\", \"ticks\": \"\"}, \"bgcolor\": \"#E5ECF6\", \"radialaxis\": {\"gridcolor\": \"white\", \"linecolor\": \"white\", \"ticks\": \"\"}}, \"scene\": {\"xaxis\": {\"backgroundcolor\": \"#E5ECF6\", \"gridcolor\": \"white\", \"gridwidth\": 2, \"linecolor\": \"white\", \"showbackground\": true, \"ticks\": \"\", \"zerolinecolor\": \"white\"}, \"yaxis\": {\"backgroundcolor\": \"#E5ECF6\", \"gridcolor\": \"white\", \"gridwidth\": 2, \"linecolor\": \"white\", \"showbackground\": true, \"ticks\": \"\", \"zerolinecolor\": \"white\"}, \"zaxis\": {\"backgroundcolor\": \"#E5ECF6\", \"gridcolor\": \"white\", \"gridwidth\": 2, \"linecolor\": \"white\", \"showbackground\": true, \"ticks\": \"\", \"zerolinecolor\": \"white\"}}, \"shapedefaults\": {\"line\": {\"color\": \"#2a3f5f\"}}, \"ternary\": {\"aaxis\": {\"gridcolor\": \"white\", \"linecolor\": \"white\", \"ticks\": \"\"}, \"baxis\": {\"gridcolor\": \"white\", \"linecolor\": \"white\", \"ticks\": \"\"}, \"bgcolor\": \"#E5ECF6\", \"caxis\": {\"gridcolor\": \"white\", \"linecolor\": \"white\", \"ticks\": \"\"}}, \"title\": {\"x\": 0.05}, \"xaxis\": {\"automargin\": true, \"gridcolor\": \"white\", \"linecolor\": \"white\", \"ticks\": \"\", \"zerolinecolor\": \"white\", \"zerolinewidth\": 2}, \"yaxis\": {\"automargin\": true, \"gridcolor\": \"white\", \"linecolor\": \"white\", \"ticks\": \"\", \"zerolinecolor\": \"white\", \"zerolinewidth\": 2}}}, \"xaxis\": {\"anchor\": \"y\", \"domain\": [0.0, 0.98], \"title\": {\"text\": \"Date\"}}, \"yaxis\": {\"anchor\": \"x\", \"domain\": [0.0, 1.0], \"title\": {\"text\": \"Adj Close\"}}},\n",
       "                        {\"responsive\": true}\n",
       "                    ).then(function(){\n",
       "                            \n",
       "var gd = document.getElementById('ab7c88b0-6658-48cd-ba07-c742508300be');\n",
       "var x = new MutationObserver(function (mutations, observer) {{\n",
       "        var display = window.getComputedStyle(gd).display;\n",
       "        if (!display || display === 'none') {{\n",
       "            console.log([gd, 'removed!']);\n",
       "            Plotly.purge(gd);\n",
       "            observer.disconnect();\n",
       "        }}\n",
       "}});\n",
       "\n",
       "// Listen for the removal of the full notebook cells\n",
       "var notebookContainer = gd.closest('#notebook-container');\n",
       "if (notebookContainer) {{\n",
       "    x.observe(notebookContainer, {childList: true});\n",
       "}}\n",
       "\n",
       "// Listen for the clearing of the current output cell\n",
       "var outputEl = gd.closest('.output');\n",
       "if (outputEl) {{\n",
       "    x.observe(outputEl, {childList: true});\n",
       "}}\n",
       "\n",
       "                        })\n",
       "                };\n",
       "                });\n",
       "            </script>\n",
       "        </div>"
      ]
     },
     "metadata": {},
     "output_type": "display_data"
    }
   ],
   "source": [
    "fig = px.line(df_full, x = \"Date\", y = \"Adj Close\")\n",
    "fig.show()"
   ]
  },
  {
   "cell_type": "markdown",
   "metadata": {},
   "source": [
    "#### Generating additional features using OHLC Data"
   ]
  },
  {
   "cell_type": "code",
   "execution_count": 28,
   "metadata": {
    "colab": {},
    "colab_type": "code",
    "id": "FfhRHmanuubd"
   },
   "outputs": [],
   "source": [
    "\n",
    "d1 = df_full.loc[:,['Date','Adj Close']]\n",
    "d1['daily_gain'] = (df_full.Close/df_full.Open)-1 #Daily gain\n",
    "d1['hi_lo_per'] = (df_full['High']-df_full['Low'])/df_full['Close']*100 #High Low percentage\n",
    "d1['pct_change_price'] = (df_full['Close']-df_full['Open'])/df_full['Open']*100 #Percentage change in price\n",
    "d1['pct_change_volume'] = df_full['Volume']/df_full['Volume'].shift(1) #percentage change in volume\n"
   ]
  },
  {
   "cell_type": "markdown",
   "metadata": {},
   "source": [
    "#### checking the first 5 rows of the data"
   ]
  },
  {
   "cell_type": "code",
   "execution_count": 29,
   "metadata": {
    "colab": {
     "base_uri": "https://localhost:8080/",
     "height": 206
    },
    "colab_type": "code",
    "executionInfo": {
     "elapsed": 936,
     "status": "ok",
     "timestamp": 1567595092715,
     "user": {
      "displayName": "Parikshit Sohoni",
      "photoUrl": "",
      "userId": "14505864633031818456"
     },
     "user_tz": -330
    },
    "id": "mXZo9e23x954",
    "outputId": "091ad598-4901-40f1-b692-2efbb9759b22"
   },
   "outputs": [
    {
     "data": {
      "text/html": [
       "<div>\n",
       "<style scoped>\n",
       "    .dataframe tbody tr th:only-of-type {\n",
       "        vertical-align: middle;\n",
       "    }\n",
       "\n",
       "    .dataframe tbody tr th {\n",
       "        vertical-align: top;\n",
       "    }\n",
       "\n",
       "    .dataframe thead th {\n",
       "        text-align: right;\n",
       "    }\n",
       "</style>\n",
       "<table border=\"1\" class=\"dataframe\">\n",
       "  <thead>\n",
       "    <tr style=\"text-align: right;\">\n",
       "      <th></th>\n",
       "      <th>Date</th>\n",
       "      <th>Adj Close</th>\n",
       "      <th>daily_gain</th>\n",
       "      <th>hi_lo_per</th>\n",
       "      <th>pct_change_price</th>\n",
       "      <th>pct_change_volume</th>\n",
       "    </tr>\n",
       "  </thead>\n",
       "  <tbody>\n",
       "    <tr>\n",
       "      <th>0</th>\n",
       "      <td>2018-01-01</td>\n",
       "      <td>899.194580</td>\n",
       "      <td>-0.014035</td>\n",
       "      <td>1.670790</td>\n",
       "      <td>-1.403491</td>\n",
       "      <td>NaN</td>\n",
       "    </tr>\n",
       "    <tr>\n",
       "      <th>1</th>\n",
       "      <td>2018-01-02</td>\n",
       "      <td>900.578369</td>\n",
       "      <td>-0.002026</td>\n",
       "      <td>1.443227</td>\n",
       "      <td>-0.202626</td>\n",
       "      <td>1.004889</td>\n",
       "    </tr>\n",
       "    <tr>\n",
       "      <th>2</th>\n",
       "      <td>2018-01-03</td>\n",
       "      <td>904.185974</td>\n",
       "      <td>-0.011027</td>\n",
       "      <td>1.415611</td>\n",
       "      <td>-1.102704</td>\n",
       "      <td>1.421961</td>\n",
       "    </tr>\n",
       "    <tr>\n",
       "      <th>3</th>\n",
       "      <td>2018-01-04</td>\n",
       "      <td>909.622131</td>\n",
       "      <td>0.002342</td>\n",
       "      <td>0.662825</td>\n",
       "      <td>0.234163</td>\n",
       "      <td>0.666943</td>\n",
       "    </tr>\n",
       "    <tr>\n",
       "      <th>4</th>\n",
       "      <td>2018-01-05</td>\n",
       "      <td>912.537903</td>\n",
       "      <td>0.001573</td>\n",
       "      <td>0.720284</td>\n",
       "      <td>0.157302</td>\n",
       "      <td>0.825990</td>\n",
       "    </tr>\n",
       "  </tbody>\n",
       "</table>\n",
       "</div>"
      ],
      "text/plain": [
       "         Date   Adj Close  daily_gain  hi_lo_per  pct_change_price  \\\n",
       "0  2018-01-01  899.194580   -0.014035   1.670790         -1.403491   \n",
       "1  2018-01-02  900.578369   -0.002026   1.443227         -0.202626   \n",
       "2  2018-01-03  904.185974   -0.011027   1.415611         -1.102704   \n",
       "3  2018-01-04  909.622131    0.002342   0.662825          0.234163   \n",
       "4  2018-01-05  912.537903    0.001573   0.720284          0.157302   \n",
       "\n",
       "   pct_change_volume  \n",
       "0                NaN  \n",
       "1           1.004889  \n",
       "2           1.421961  \n",
       "3           0.666943  \n",
       "4           0.825990  "
      ]
     },
     "execution_count": 29,
     "metadata": {},
     "output_type": "execute_result"
    }
   ],
   "source": [
    "d1.head()"
   ]
  },
  {
   "cell_type": "markdown",
   "metadata": {},
   "source": [
    "#### Removing Missing Values"
   ]
  },
  {
   "cell_type": "code",
   "execution_count": 30,
   "metadata": {
    "colab": {},
    "colab_type": "code",
    "id": "dQWBsZKzx98S"
   },
   "outputs": [],
   "source": [
    "d1.fillna(value = -99999,inplace = True)"
   ]
  },
  {
   "cell_type": "code",
   "execution_count": 0,
   "metadata": {
    "colab": {
     "base_uri": "https://localhost:8080/",
     "height": 206
    },
    "colab_type": "code",
    "executionInfo": {
     "elapsed": 683,
     "status": "ok",
     "timestamp": 1567595098676,
     "user": {
      "displayName": "Parikshit Sohoni",
      "photoUrl": "",
      "userId": "14505864633031818456"
     },
     "user_tz": -330
    },
    "id": "qENW_iUxx9-0",
    "outputId": "94d7c641-d197-4660-bd49-79c8f7f2f73d"
   },
   "outputs": [
    {
     "data": {
      "text/html": [
       "<div>\n",
       "<style scoped>\n",
       "    .dataframe tbody tr th:only-of-type {\n",
       "        vertical-align: middle;\n",
       "    }\n",
       "\n",
       "    .dataframe tbody tr th {\n",
       "        vertical-align: top;\n",
       "    }\n",
       "\n",
       "    .dataframe thead th {\n",
       "        text-align: right;\n",
       "    }\n",
       "</style>\n",
       "<table border=\"1\" class=\"dataframe\">\n",
       "  <thead>\n",
       "    <tr style=\"text-align: right;\">\n",
       "      <th></th>\n",
       "      <th>Date</th>\n",
       "      <th>Adj Close</th>\n",
       "      <th>daily_gain</th>\n",
       "      <th>hi_lo_per</th>\n",
       "      <th>pct_change_price</th>\n",
       "      <th>pct_change_volume</th>\n",
       "    </tr>\n",
       "  </thead>\n",
       "  <tbody>\n",
       "    <tr>\n",
       "      <th>0</th>\n",
       "      <td>2018-01-01</td>\n",
       "      <td>899.194580</td>\n",
       "      <td>-0.014035</td>\n",
       "      <td>1.670790</td>\n",
       "      <td>-1.403491</td>\n",
       "      <td>-99999.000000</td>\n",
       "    </tr>\n",
       "    <tr>\n",
       "      <th>1</th>\n",
       "      <td>2018-01-02</td>\n",
       "      <td>900.578369</td>\n",
       "      <td>-0.002026</td>\n",
       "      <td>1.443227</td>\n",
       "      <td>-0.202626</td>\n",
       "      <td>1.004889</td>\n",
       "    </tr>\n",
       "    <tr>\n",
       "      <th>2</th>\n",
       "      <td>2018-01-03</td>\n",
       "      <td>904.185974</td>\n",
       "      <td>-0.011027</td>\n",
       "      <td>1.415611</td>\n",
       "      <td>-1.102704</td>\n",
       "      <td>1.421961</td>\n",
       "    </tr>\n",
       "    <tr>\n",
       "      <th>3</th>\n",
       "      <td>2018-01-04</td>\n",
       "      <td>909.622131</td>\n",
       "      <td>0.002342</td>\n",
       "      <td>0.662825</td>\n",
       "      <td>0.234163</td>\n",
       "      <td>0.666943</td>\n",
       "    </tr>\n",
       "    <tr>\n",
       "      <th>4</th>\n",
       "      <td>2018-01-05</td>\n",
       "      <td>912.537903</td>\n",
       "      <td>0.001573</td>\n",
       "      <td>0.720284</td>\n",
       "      <td>0.157302</td>\n",
       "      <td>0.825990</td>\n",
       "    </tr>\n",
       "  </tbody>\n",
       "</table>\n",
       "</div>"
      ],
      "text/plain": [
       "        Date   Adj Close  ...  pct_change_price  pct_change_volume\n",
       "0 2018-01-01  899.194580  ...         -1.403491      -99999.000000\n",
       "1 2018-01-02  900.578369  ...         -0.202626           1.004889\n",
       "2 2018-01-03  904.185974  ...         -1.102704           1.421961\n",
       "3 2018-01-04  909.622131  ...          0.234163           0.666943\n",
       "4 2018-01-05  912.537903  ...          0.157302           0.825990\n",
       "\n",
       "[5 rows x 6 columns]"
      ]
     },
     "execution_count": 80,
     "metadata": {
      "tags": []
     },
     "output_type": "execute_result"
    }
   ],
   "source": [
    "d1.head()"
   ]
  },
  {
   "cell_type": "code",
   "execution_count": 31,
   "metadata": {
    "colab": {},
    "colab_type": "code",
    "id": "HL8TP90iBHfH"
   },
   "outputs": [
    {
     "data": {
      "text/html": [
       "<div>\n",
       "<style scoped>\n",
       "    .dataframe tbody tr th:only-of-type {\n",
       "        vertical-align: middle;\n",
       "    }\n",
       "\n",
       "    .dataframe tbody tr th {\n",
       "        vertical-align: top;\n",
       "    }\n",
       "\n",
       "    .dataframe thead th {\n",
       "        text-align: right;\n",
       "    }\n",
       "</style>\n",
       "<table border=\"1\" class=\"dataframe\">\n",
       "  <thead>\n",
       "    <tr style=\"text-align: right;\">\n",
       "      <th></th>\n",
       "      <th>Date</th>\n",
       "      <th>Adj Close</th>\n",
       "      <th>daily_gain</th>\n",
       "      <th>hi_lo_per</th>\n",
       "      <th>pct_change_price</th>\n",
       "      <th>pct_change_volume</th>\n",
       "    </tr>\n",
       "  </thead>\n",
       "  <tbody>\n",
       "    <tr>\n",
       "      <th>409</th>\n",
       "      <td>2019-09-03</td>\n",
       "      <td>1206.400024</td>\n",
       "      <td>-0.028859</td>\n",
       "      <td>3.564324</td>\n",
       "      <td>-2.885891</td>\n",
       "      <td>0.757244</td>\n",
       "    </tr>\n",
       "    <tr>\n",
       "      <th>410</th>\n",
       "      <td>2019-09-04</td>\n",
       "      <td>1201.150024</td>\n",
       "      <td>0.000500</td>\n",
       "      <td>1.598464</td>\n",
       "      <td>0.049975</td>\n",
       "      <td>1.759119</td>\n",
       "    </tr>\n",
       "    <tr>\n",
       "      <th>411</th>\n",
       "      <td>2019-09-05</td>\n",
       "      <td>1198.599976</td>\n",
       "      <td>-0.006795</td>\n",
       "      <td>1.660262</td>\n",
       "      <td>-0.679489</td>\n",
       "      <td>0.697903</td>\n",
       "    </tr>\n",
       "    <tr>\n",
       "      <th>412</th>\n",
       "      <td>2019-09-06</td>\n",
       "      <td>1222.500000</td>\n",
       "      <td>0.016209</td>\n",
       "      <td>2.760736</td>\n",
       "      <td>1.620948</td>\n",
       "      <td>1.008320</td>\n",
       "    </tr>\n",
       "    <tr>\n",
       "      <th>413</th>\n",
       "      <td>2019-09-09</td>\n",
       "      <td>1222.199951</td>\n",
       "      <td>0.001270</td>\n",
       "      <td>1.624119</td>\n",
       "      <td>0.126976</td>\n",
       "      <td>0.506653</td>\n",
       "    </tr>\n",
       "  </tbody>\n",
       "</table>\n",
       "</div>"
      ],
      "text/plain": [
       "           Date    Adj Close  daily_gain  hi_lo_per  pct_change_price  \\\n",
       "409  2019-09-03  1206.400024   -0.028859   3.564324         -2.885891   \n",
       "410  2019-09-04  1201.150024    0.000500   1.598464          0.049975   \n",
       "411  2019-09-05  1198.599976   -0.006795   1.660262         -0.679489   \n",
       "412  2019-09-06  1222.500000    0.016209   2.760736          1.620948   \n",
       "413  2019-09-09  1222.199951    0.001270   1.624119          0.126976   \n",
       "\n",
       "     pct_change_volume  \n",
       "409           0.757244  \n",
       "410           1.759119  \n",
       "411           0.697903  \n",
       "412           1.008320  \n",
       "413           0.506653  "
      ]
     },
     "execution_count": 31,
     "metadata": {},
     "output_type": "execute_result"
    }
   ],
   "source": [
    "d1.tail()"
   ]
  },
  {
   "cell_type": "markdown",
   "metadata": {},
   "source": [
    "#### Creating training and testing data training data will be from Jan 2018 to June 2019 testing data will be from July 2019 to Current date"
   ]
  },
  {
   "cell_type": "code",
   "execution_count": 37,
   "metadata": {},
   "outputs": [],
   "source": [
    "train = d1[:d1[d1['Date'] == '2019-07-01'].index.to_list()[0]]\n",
    "test = d1[d1[d1['Date'] == '2019-07-01'].index.to_list()[0]:]"
   ]
  },
  {
   "cell_type": "markdown",
   "metadata": {},
   "source": [
    "#### Creating Matrix of dependent and independent variables"
   ]
  },
  {
   "cell_type": "code",
   "execution_count": 38,
   "metadata": {},
   "outputs": [],
   "source": [
    "x_train = train.drop(['Adj Close','Date'], axis=1)\n",
    "y_train = train['Adj Close']\n",
    "x_valid = test.drop(['Adj Close','Date'], axis=1)\n",
    "y_valid = test['Adj Close']"
   ]
  },
  {
   "cell_type": "markdown",
   "metadata": {},
   "source": [
    "# Linear Regression"
   ]
  },
  {
   "cell_type": "code",
   "execution_count": 41,
   "metadata": {},
   "outputs": [
    {
     "data": {
      "text/plain": [
       "LinearRegression(copy_X=True, fit_intercept=True, n_jobs=None,\n",
       "         normalize=False)"
      ]
     },
     "execution_count": 41,
     "metadata": {},
     "output_type": "execute_result"
    }
   ],
   "source": [
    "#training the linear regression model \n",
    "model = LinearRegression()\n",
    "model.fit(x_train,y_train)"
   ]
  },
  {
   "cell_type": "code",
   "execution_count": 42,
   "metadata": {},
   "outputs": [],
   "source": [
    "#using the trained model to make prediction\n",
    "preds = model.predict(x_valid)"
   ]
  },
  {
   "cell_type": "code",
   "execution_count": 43,
   "metadata": {},
   "outputs": [
    {
     "data": {
      "text/plain": [
       "136.06657520294516"
      ]
     },
     "execution_count": 43,
     "metadata": {},
     "output_type": "execute_result"
    }
   ],
   "source": [
    "#Checking the root mean squared error made by the model\n",
    "rms=np.sqrt(np.mean(np.power((np.array(y_valid)-np.array(preds)),2)))\n",
    "rms"
   ]
  },
  {
   "cell_type": "code",
   "execution_count": 44,
   "metadata": {},
   "outputs": [
    {
     "name": "stderr",
     "output_type": "stream",
     "text": [
      "/home/parikshit/anaconda3/lib/python3.7/site-packages/ipykernel_launcher.py:2: SettingWithCopyWarning:\n",
      "\n",
      "\n",
      "A value is trying to be set on a copy of a slice from a DataFrame.\n",
      "Try using .loc[row_indexer,col_indexer] = value instead\n",
      "\n",
      "See the caveats in the documentation: http://pandas.pydata.org/pandas-docs/stable/indexing.html#indexing-view-versus-copy\n",
      "\n",
      "/home/parikshit/anaconda3/lib/python3.7/site-packages/ipykernel_launcher.py:3: SettingWithCopyWarning:\n",
      "\n",
      "\n",
      "A value is trying to be set on a copy of a slice from a DataFrame.\n",
      "Try using .loc[row_indexer,col_indexer] = value instead\n",
      "\n",
      "See the caveats in the documentation: http://pandas.pydata.org/pandas-docs/stable/indexing.html#indexing-view-versus-copy\n",
      "\n"
     ]
    }
   ],
   "source": [
    "#Adding the predictind values to the testing data\n",
    "test['Predictions'] = 0\n",
    "test['Predictions'] = preds"
   ]
  },
  {
   "cell_type": "code",
   "execution_count": 50,
   "metadata": {},
   "outputs": [
    {
     "data": {
      "text/plain": [
       "[<matplotlib.lines.Line2D at 0x7f3a26787048>,\n",
       " <matplotlib.lines.Line2D at 0x7f3a2669ddd8>]"
      ]
     },
     "execution_count": 50,
     "metadata": {},
     "output_type": "execute_result"
    },
    {
     "data": {
      "image/png": "[encoded data removed]",
      "text/plain": [
       "<Figure size 864x576 with 1 Axes>"
      ]
     },
     "metadata": {},
     "output_type": "display_data"
    }
   ],
   "source": [
    "#Plotting the actual values of adjusted close price from the testing data with the predicted values \n",
    "test.index = test['Date']\n",
    "train.index = train['Date']\n",
    "\n",
    "figure(figsize=(12,8))\n",
    "plt.plot(train['Adj Close'])\n",
    "plt.plot(test[['Adj Close', 'Predictions']])"
   ]
  },
  {
   "cell_type": "markdown",
   "metadata": {},
   "source": [
    "# Quadratic linear regression"
   ]
  },
  {
   "cell_type": "code",
   "execution_count": 87,
   "metadata": {},
   "outputs": [],
   "source": [
    "polynomial_features= PolynomialFeatures(degree=4)\n",
    "x_poly = polynomial_features.fit_transform(x_train)\n",
    "x_poly_test = polynomial_features.fit_transform(x_valid)"
   ]
  },
  {
   "cell_type": "code",
   "execution_count": 91,
   "metadata": {},
   "outputs": [],
   "source": [
    "# training the polynomial regression model\n",
    "model = LinearRegression()\n",
    "model.fit(x_poly, y_train)\n",
    "preds = model.predict(x_poly_test)"
   ]
  },
  {
   "cell_type": "code",
   "execution_count": 92,
   "metadata": {},
   "outputs": [
    {
     "data": {
      "text/plain": [
       "133.1501952679034"
      ]
     },
     "execution_count": 92,
     "metadata": {},
     "output_type": "execute_result"
    }
   ],
   "source": [
    "#Checking the root mean squared error made by the model\n",
    "rms=np.sqrt(np.mean(np.power((np.array(y_valid)-np.array(preds)),2)))\n",
    "rms"
   ]
  },
  {
   "cell_type": "code",
   "execution_count": 93,
   "metadata": {},
   "outputs": [
    {
     "name": "stderr",
     "output_type": "stream",
     "text": [
      "/home/parikshit/anaconda3/lib/python3.7/site-packages/ipykernel_launcher.py:2: SettingWithCopyWarning:\n",
      "\n",
      "\n",
      "A value is trying to be set on a copy of a slice from a DataFrame.\n",
      "Try using .loc[row_indexer,col_indexer] = value instead\n",
      "\n",
      "See the caveats in the documentation: http://pandas.pydata.org/pandas-docs/stable/indexing.html#indexing-view-versus-copy\n",
      "\n",
      "/home/parikshit/anaconda3/lib/python3.7/site-packages/ipykernel_launcher.py:3: SettingWithCopyWarning:\n",
      "\n",
      "\n",
      "A value is trying to be set on a copy of a slice from a DataFrame.\n",
      "Try using .loc[row_indexer,col_indexer] = value instead\n",
      "\n",
      "See the caveats in the documentation: http://pandas.pydata.org/pandas-docs/stable/indexing.html#indexing-view-versus-copy\n",
      "\n"
     ]
    },
    {
     "data": {
      "text/plain": [
       "[<matplotlib.lines.Line2D at 0x7f3a17596940>,\n",
       " <matplotlib.lines.Line2D at 0x7f3a17314b00>]"
      ]
     },
     "execution_count": 93,
     "metadata": {},
     "output_type": "execute_result"
    },
    {
     "data": {
      "image/png": "[encoded data removed]",
      "text/plain": [
       "<Figure size 864x576 with 1 Axes>"
      ]
     },
     "metadata": {},
     "output_type": "display_data"
    }
   ],
   "source": [
    "#Adding the predictind values to the testing data\n",
    "test['Predictions'] = 0\n",
    "test['Predictions'] = preds\n",
    "\n",
    "test.index = test['Date']\n",
    "train.index = train['Date']\n",
    "\n",
    "figure(figsize=(12,8))\n",
    "plt.plot(train['Adj Close'])\n",
    "plt.plot(test[['Adj Close', 'Predictions']])"
   ]
  },
  {
   "cell_type": "markdown",
   "metadata": {},
   "source": [
    "# Ridge Regression"
   ]
  },
  {
   "cell_type": "code",
   "execution_count": 76,
   "metadata": {},
   "outputs": [
    {
     "name": "stdout",
     "output_type": "stream",
     "text": [
      "daily_gain           15.811208\n",
      "hi_lo_per             4.572538\n",
      "pct_change_price      0.158112\n",
      "pct_change_volume     0.000421\n",
      "dtype: float64\n"
     ]
    }
   ],
   "source": [
    "# training the ridge regression model\n",
    "ridge = Ridge(alpha = 4, normalize = True)\n",
    "ridge.fit(x_train, y_train)             # Fit a ridge regression on the training data\n",
    "pred2 = ridge.predict(x_valid)           # Use this model to predict the test data\n",
    "print(pd.Series(ridge.coef_, index = x_train.columns)) # Print coefficients"
   ]
  },
  {
   "cell_type": "code",
   "execution_count": 77,
   "metadata": {},
   "outputs": [
    {
     "data": {
      "text/plain": [
       "133.74130816549413"
      ]
     },
     "execution_count": 77,
     "metadata": {},
     "output_type": "execute_result"
    }
   ],
   "source": [
    "#Checking the root mean squared error made by the model\n",
    "rms=np.sqrt(np.mean(np.power((np.array(y_valid)-np.array(pred2)),2)))\n",
    "rms"
   ]
  },
  {
   "cell_type": "code",
   "execution_count": 78,
   "metadata": {},
   "outputs": [
    {
     "name": "stderr",
     "output_type": "stream",
     "text": [
      "/home/parikshit/anaconda3/lib/python3.7/site-packages/ipykernel_launcher.py:1: SettingWithCopyWarning:\n",
      "\n",
      "\n",
      "A value is trying to be set on a copy of a slice from a DataFrame.\n",
      "Try using .loc[row_indexer,col_indexer] = value instead\n",
      "\n",
      "See the caveats in the documentation: http://pandas.pydata.org/pandas-docs/stable/indexing.html#indexing-view-versus-copy\n",
      "\n",
      "/home/parikshit/anaconda3/lib/python3.7/site-packages/ipykernel_launcher.py:2: SettingWithCopyWarning:\n",
      "\n",
      "\n",
      "A value is trying to be set on a copy of a slice from a DataFrame.\n",
      "Try using .loc[row_indexer,col_indexer] = value instead\n",
      "\n",
      "See the caveats in the documentation: http://pandas.pydata.org/pandas-docs/stable/indexing.html#indexing-view-versus-copy\n",
      "\n"
     ]
    },
    {
     "data": {
      "text/plain": [
       "[<matplotlib.lines.Line2D at 0x7f3a17fad9b0>,\n",
       " <matplotlib.lines.Line2D at 0x7f3a17fb69b0>]"
      ]
     },
     "execution_count": 78,
     "metadata": {},
     "output_type": "execute_result"
    },
    {
     "data": {
      "image/png": "[encoded data removed]",
      "text/plain": [
       "<Figure size 864x576 with 1 Axes>"
      ]
     },
     "metadata": {},
     "output_type": "display_data"
    }
   ],
   "source": [
    "#Adding the predictind values to the testing data\n",
    "test['Predictions'] = 0\n",
    "test['Predictions'] = pred2\n",
    "\n",
    "test.index = test['Date']\n",
    "train.index = train['Date']\n",
    "\n",
    "figure(figsize=(12,8))\n",
    "plt.plot(train['Adj Close'])\n",
    "plt.plot(test[['Adj Close', 'Predictions']])"
   ]
  },
  {
   "cell_type": "markdown",
   "metadata": {},
   "source": [
    "# Lasso "
   ]
  },
  {
   "cell_type": "code",
   "execution_count": 80,
   "metadata": {},
   "outputs": [],
   "source": [
    "# training the ridge regression model\n",
    "lasso = Lasso(max_iter = 10000, normalize = True)\n",
    "lassocv = LassoCV(alphas = None, cv = 10, max_iter = 100000, normalize = True)\n",
    "lassocv.fit(x_train, y_train)\n",
    "\n",
    "lasso.set_params(alpha=lassocv.alpha_)\n",
    "lasso.fit(x_train, y_train)\n",
    "pred3 = lasso.predict(x_valid)"
   ]
  },
  {
   "cell_type": "code",
   "execution_count": 81,
   "metadata": {},
   "outputs": [
    {
     "data": {
      "text/plain": [
       "133.69508695699153"
      ]
     },
     "execution_count": 81,
     "metadata": {},
     "output_type": "execute_result"
    }
   ],
   "source": [
    "#Checking the root mean squared error made by the model\n",
    "rms=np.sqrt(np.mean(np.power((np.array(y_valid)-np.array(pred3)),2)))\n",
    "rms"
   ]
  },
  {
   "cell_type": "code",
   "execution_count": 83,
   "metadata": {},
   "outputs": [
    {
     "name": "stderr",
     "output_type": "stream",
     "text": [
      "/home/parikshit/anaconda3/lib/python3.7/site-packages/ipykernel_launcher.py:1: SettingWithCopyWarning:\n",
      "\n",
      "\n",
      "A value is trying to be set on a copy of a slice from a DataFrame.\n",
      "Try using .loc[row_indexer,col_indexer] = value instead\n",
      "\n",
      "See the caveats in the documentation: http://pandas.pydata.org/pandas-docs/stable/indexing.html#indexing-view-versus-copy\n",
      "\n",
      "/home/parikshit/anaconda3/lib/python3.7/site-packages/ipykernel_launcher.py:2: SettingWithCopyWarning:\n",
      "\n",
      "\n",
      "A value is trying to be set on a copy of a slice from a DataFrame.\n",
      "Try using .loc[row_indexer,col_indexer] = value instead\n",
      "\n",
      "See the caveats in the documentation: http://pandas.pydata.org/pandas-docs/stable/indexing.html#indexing-view-versus-copy\n",
      "\n"
     ]
    },
    {
     "data": {
      "text/plain": [
       "[<matplotlib.lines.Line2D at 0x7f3a17bdd1d0>,\n",
       " <matplotlib.lines.Line2D at 0x7f3a17a8cda0>]"
      ]
     },
     "execution_count": 83,
     "metadata": {},
     "output_type": "execute_result"
    },
    {
     "data": {
      "image/png": "[encoded data removed]",
      "text/plain": [
       "<Figure size 864x576 with 1 Axes>"
      ]
     },
     "metadata": {},
     "output_type": "display_data"
    }
   ],
   "source": [
    "#Adding the predictind values to the testing data\n",
    "test['Predictions'] = 0\n",
    "test['Predictions'] = pred3\n",
    "\n",
    "test.index = test['Date']\n",
    "train.index = train['Date']\n",
    "\n",
    "figure(figsize=(12,8))\n",
    "plt.plot(train['Adj Close'])\n",
    "plt.plot(test[['Adj Close', 'Predictions']])"
   ]
  }
 ],
 "metadata": {
  "colab": {
   "name": "Hw2.ipynb",
   "provenance": [],
   "version": "0.3.2"
  },
  "kernelspec": {
   "display_name": "Python 3",
   "language": "python",
   "name": "python3"
  },
  "language_info": {
   "codemirror_mode": {
    "name": "ipython",
    "version": 3
   },
   "file_extension": ".py",
   "mimetype": "text/x-python",
   "name": "python",
   "nbconvert_exporter": "python",
   "pygments_lexer": "ipython3",
   "version": "3.7.3"
  }
 },
 "nbformat": 4,
 "nbformat_minor": 1
}
